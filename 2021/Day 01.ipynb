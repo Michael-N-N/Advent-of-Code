{
 "cells": [
  {
   "cell_type": "markdown",
   "metadata": {},
   "source": [
    "# Day 01\n",
    "https://adventofcode.com/2021/day/1"
   ]
  },
  {
   "cell_type": "markdown",
   "metadata": {},
   "source": [
    "## Part 1"
   ]
  },
  {
   "cell_type": "code",
   "execution_count": 29,
   "metadata": {},
   "outputs": [
    {
     "data": {
      "text/plain": [
       "1532"
      ]
     },
     "execution_count": 29,
     "metadata": {},
     "output_type": "execute_result"
    }
   ],
   "source": [
    "with open('input/Day 01.txt', 'r') as file:\n",
    "\tlines = [int(l) for l in file]\n",
    "\n",
    "sum(\n",
    "\t[(lines[index] - lines[index + 1]) < 0 \n",
    "  \t\tfor index, value \n",
    "\t\tin enumerate(lines) \n",
    "\t\tif index < len(lines) - 1])\n"
   ]
  },
  {
   "cell_type": "markdown",
   "metadata": {},
   "source": [
    "## Part 2"
   ]
  },
  {
   "cell_type": "code",
   "execution_count": 30,
   "metadata": {},
   "outputs": [
    {
     "data": {
      "text/plain": [
       "1571"
      ]
     },
     "execution_count": 30,
     "metadata": {},
     "output_type": "execute_result"
    }
   ],
   "source": [
    "with open('input/Day 01.txt', 'r') as file:\n",
    "\tlines = [int(l) for l in file]\n",
    "\n",
    "sum(\n",
    "\t[(lines[index] - lines[index + 3]) < 0 \n",
    "  \t\tfor index, value \n",
    "\t\tin enumerate(lines) \n",
    "\t\tif index < len(lines) - 3])"
   ]
  }
 ],
 "metadata": {
  "kernelspec": {
   "display_name": "Python 3",
   "language": "python",
   "name": "python3"
  },
  "language_info": {
   "codemirror_mode": {
    "name": "ipython",
    "version": 3
   },
   "file_extension": ".py",
   "mimetype": "text/x-python",
   "name": "python",
   "nbconvert_exporter": "python",
   "pygments_lexer": "ipython3",
   "version": "3.12.0"
  }
 },
 "nbformat": 4,
 "nbformat_minor": 2
}
