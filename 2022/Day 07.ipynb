{
 "cells": [
  {
   "cell_type": "markdown",
   "metadata": {},
   "source": [
    "# Day XX: ..."
   ]
  },
  {
   "cell_type": "markdown",
   "metadata": {},
   "source": [
    "## Part 1"
   ]
  },
  {
   "cell_type": "code",
   "execution_count": 1,
   "metadata": {},
   "outputs": [],
   "source": [
    "with open('input/Day 07.txt', 'r') as file:\n",
    "\tlines = [l.replace('\\n','') for l in file]"
   ]
  },
  {
   "cell_type": "code",
   "execution_count": 2,
   "metadata": {},
   "outputs": [],
   "source": [
    "def folder_exists(filesystem, *folders):\t\n",
    "\ttemp = filesystem\n",
    "\tfor key in folders:\n",
    "\t\tif not key in temp:\n",
    "\t\t\treturn False\n",
    "\t\telse:\n",
    "\t\t\ttemp = temp[key]\n",
    "\treturn True\n",
    "\n",
    "\t#folder_exists(filesystem, *['folder2','subfolder2'])"
   ]
  },
  {
   "cell_type": "code",
   "execution_count": 3,
   "metadata": {},
   "outputs": [],
   "source": [
    "def change_directory(filesystem, pointer, line):\n",
    "\t_, subfolder = line[2:].replace('/n','').split(' ')\n",
    "\t\n",
    "\tif subfolder == '..':\n",
    "\t\treturn pointer[:-1]\n",
    "\t\n",
    "\tif subfolder == '/':\n",
    "\t\treturn ['root']\n",
    "\t\n",
    "\tif folder_exists(filesystem, *pointer, subfolder):\n",
    "\t\treturn pointer + [subfolder]\n",
    "\telse:\n",
    "\t\traise TypeError(subfolder)\n",
    "\t\t\n",
    "\n",
    "\t#change_directory(filesystem, ['folder1'], \"$ cd subfolder\")"
   ]
  },
  {
   "cell_type": "code",
   "execution_count": 4,
   "metadata": {},
   "outputs": [],
   "source": [
    "def add_entry(filesystem, new_entry, *folders):\n",
    "\n",
    "\ttemp = filesystem\n",
    "\tfor key in folders:\n",
    "\t\ttemp = temp[key]\n",
    "\n",
    "\tif new_entry[0:3] == 'dir':\n",
    "\t\ttemp[new_entry[4:]] = {}\n",
    "\telse:\n",
    "\t\tf = new_entry.split(' ')\n",
    "\t\ttemp[f[1]] = int(f[0])\n",
    "        \n",
    "\treturn filesystem\n",
    "\n",
    "\t#add_new_entry(filesystem, \"456 test.txt\", 'root', 'folder1')"
   ]
  },
  {
   "cell_type": "code",
   "execution_count": 5,
   "metadata": {},
   "outputs": [],
   "source": [
    "def sum_foldersize(folder, folder_list):\n",
    "\ttotal_sum = 0\n",
    "\t \n",
    "\tfor name, content in folder.items():\n",
    "\t\tif isinstance(content, dict):  \n",
    "\t\t\tfolder_sum, arr = sum_foldersize(content, folder_list)  \n",
    "\t\t\tfolder_list.append([name, folder_sum]) \n",
    "\t\t\ttotal_sum += folder_sum\n",
    "\n",
    "\t\telif isinstance(content, int):  \n",
    "\t\t\ttotal_sum += content\n",
    "\treturn total_sum, folder_list"
   ]
  },
  {
   "cell_type": "code",
   "execution_count": 8,
   "metadata": {},
   "outputs": [
    {
     "data": {
      "text/plain": [
       "1886043"
      ]
     },
     "execution_count": 8,
     "metadata": {},
     "output_type": "execute_result"
    }
   ],
   "source": [
    "filesystem = {'root':{}}\n",
    "pointer = ['root']\n",
    "\n",
    "for line in lines:\n",
    "\n",
    "\tif line[0:4] == \"$ cd\":\n",
    "\t\tpointer = change_directory(filesystem, pointer, line)\n",
    "\n",
    "\telif  line[0:4] == \"$ ls\":\n",
    "\t\tpass\n",
    "\t\n",
    "\telse:\n",
    "\t\tfilesystem = add_entry(filesystem, line, *pointer)\n",
    "\n",
    "\n",
    "_, folder_list = sum_foldersize(filesystem, [])\n",
    "\n",
    "sum_lst = [s[1] for s in folder_list if s[1]< 100_000]\n",
    "\n",
    "sum(sum_lst)"
   ]
  },
  {
   "cell_type": "markdown",
   "metadata": {},
   "source": [
    "## Part 2: NOT CORRECT"
   ]
  },
  {
   "cell_type": "code",
   "execution_count": 15,
   "metadata": {},
   "outputs": [
    {
     "data": {
      "text/plain": [
       "20338342"
      ]
     },
     "execution_count": 15,
     "metadata": {},
     "output_type": "execute_result"
    }
   ],
   "source": [
    "root_size = max([s[1] for s in folder_list])\n",
    "\n",
    "\n",
    "required_size = 70_000_000 - 30_000_000\n",
    "unused = 70_000_000 - root_size\n",
    "delta = required_size - unused\n",
    "\n",
    "\n",
    "solution = [s[1] for s in folder_list if s[1] >=delta]\n",
    "min(solution)"
   ]
  }
 ],
 "metadata": {
  "kernelspec": {
   "display_name": "Python 3",
   "language": "python",
   "name": "python3"
  },
  "language_info": {
   "codemirror_mode": {
    "name": "ipython",
    "version": 3
   },
   "file_extension": ".py",
   "mimetype": "text/x-python",
   "name": "python",
   "nbconvert_exporter": "python",
   "pygments_lexer": "ipython3",
   "version": "3.12.0"
  }
 },
 "nbformat": 4,
 "nbformat_minor": 2
}
