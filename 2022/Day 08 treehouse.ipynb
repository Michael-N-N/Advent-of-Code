{
 "cells": [
  {
   "cell_type": "markdown",
   "metadata": {},
   "source": [
    "# Day 08: Treetop Tree House\n",
    "https://adventofcode.com/2022/day/8"
   ]
  },
  {
   "cell_type": "markdown",
   "metadata": {},
   "source": [
    "## Part 1"
   ]
  },
  {
   "cell_type": "code",
   "execution_count": 146,
   "metadata": {},
   "outputs": [],
   "source": [
    "import numpy as np"
   ]
  },
  {
   "cell_type": "code",
   "execution_count": 147,
   "metadata": {},
   "outputs": [],
   "source": [
    "with open('input/Day 08.txt', 'r') as file:\n",
    "\tgrid = np.array([list(s) for s in [line.replace('\\n','') for line in file]]).astype(int)\n",
    "\n",
    "# add -1's around the field for easier handling\n",
    "zero_col = np.array([[-1] for _ in range(len(grid))])\n",
    "grid = np.hstack((zero_col, grid, zero_col))\n",
    "\n",
    "zero_row = np.zeros(len(grid[0])) - 1 \n",
    "grid = np.vstack((zero_row, grid, zero_row))\n"
   ]
  },
  {
   "cell_type": "code",
   "execution_count": 148,
   "metadata": {},
   "outputs": [
    {
     "data": {
      "text/plain": [
       "1700"
      ]
     },
     "execution_count": 148,
     "metadata": {},
     "output_type": "execute_result"
    }
   ],
   "source": [
    "\n",
    "visibility_counter = 0\n",
    "for row_index, row in enumerate(grid):\n",
    "\n",
    "\tif (row_index == 0) or (row_index == (len(grid) - 1)): \n",
    "\t\tcontinue\n",
    "\n",
    "\tfor index, tree in enumerate(row):\n",
    "\t\t\n",
    "\t\tvisible = False\n",
    "\n",
    "\t\tif index == 0 or index == (len(row) - 1):\n",
    "\t\t\tcontinue\n",
    "\n",
    "\t\tif tree > max(row[index+1:]): \n",
    "\t\t\tvisible = True\n",
    "\t\t\n",
    "\t\tif tree > max(row[:index]):\n",
    "\t\t\tvisible = True\n",
    "\n",
    "\t\tif tree > max(grid.T[index][row_index+1:]):\n",
    "\t\t\tvisible = True\n",
    "\n",
    "\t\tif tree > max(grid.T[index][:row_index:]):\n",
    "\t\t\tvisible = True\n",
    "\n",
    "\t\tif visible:\n",
    "\t\t\tvisibility_counter += 1\n",
    "\n",
    "visibility_counter\n",
    "\n"
   ]
  },
  {
   "cell_type": "markdown",
   "metadata": {},
   "source": [
    "## Part 2"
   ]
  },
  {
   "cell_type": "code",
   "execution_count": 151,
   "metadata": {},
   "outputs": [],
   "source": [
    "def look(other_trees, tree):\n",
    "    for index, value in enumerate(other_trees):\n",
    "        if value >= tree:\n",
    "            return index + 1\n",
    "    return len(other_trees) - 1"
   ]
  },
  {
   "cell_type": "code",
   "execution_count": 152,
   "metadata": {},
   "outputs": [
    {
     "data": {
      "text/plain": [
       "470596"
      ]
     },
     "execution_count": 152,
     "metadata": {},
     "output_type": "execute_result"
    }
   ],
   "source": [
    "max_scenic_score = 1\n",
    "\n",
    "for row_index, row in enumerate(grid):\n",
    "\tif (row_index == 0) or (row_index == (len(grid) - 1)): \n",
    "\t\tcontinue\n",
    "\n",
    "\tfor index, tree in enumerate(row):\n",
    "\t\tscenic_score = 1\n",
    "\n",
    "\t\tif index == 0 or index == (len(row) - 1):\n",
    "\t\t\tcontinue\n",
    "\n",
    "\t\tscenic_score *= look(row[index+1:], tree)\n",
    "\t\tscenic_score *= look(row[:index][::-1], tree)\n",
    "\n",
    "\t\tscenic_score *= look(grid.T[index][row_index+1:], tree)\n",
    "\t\tscenic_score *= look(grid.T[index][:row_index][::-1], tree)\n",
    "\t\n",
    "\t\tmax_scenic_score = max(max_scenic_score, scenic_score)\n",
    "\n",
    "max_scenic_score"
   ]
  }
 ],
 "metadata": {
  "kernelspec": {
   "display_name": "Python 3",
   "language": "python",
   "name": "python3"
  },
  "language_info": {
   "codemirror_mode": {
    "name": "ipython",
    "version": 3
   },
   "file_extension": ".py",
   "mimetype": "text/x-python",
   "name": "python",
   "nbconvert_exporter": "python",
   "pygments_lexer": "ipython3",
   "version": "3.12.0"
  }
 },
 "nbformat": 4,
 "nbformat_minor": 2
}
