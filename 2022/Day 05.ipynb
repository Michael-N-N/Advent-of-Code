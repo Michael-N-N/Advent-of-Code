{
 "cells": [
  {
   "cell_type": "markdown",
   "metadata": {},
   "source": [
    "# Day 05: Supply Stacks\n",
    "https://adventofcode.com/2022/day/5"
   ]
  },
  {
   "cell_type": "markdown",
   "metadata": {},
   "source": [
    "## Part 1"
   ]
  },
  {
   "cell_type": "code",
   "execution_count": 67,
   "metadata": {},
   "outputs": [],
   "source": [
    "with open('Day 05 Input.txt', 'r') as file:\n",
    "\tlines = file.readlines()"
   ]
  },
  {
   "cell_type": "code",
   "execution_count": 73,
   "metadata": {},
   "outputs": [
    {
     "data": {
      "text/plain": [
       "'CVCWCRTVQ'"
      ]
     },
     "execution_count": 73,
     "metadata": {},
     "output_type": "execute_result"
    }
   ],
   "source": [
    "# Import starting position\n",
    "configuration = []\n",
    "\n",
    "for stack in range(9):\n",
    "\tstack_configuration = []\n",
    "\tfor crate in range(7,-1, -1):\n",
    "\t\tcontent = lines[crate][stack*4+1]\n",
    "\t\tif content.isalpha():\n",
    "\t\t\tstack_configuration.append(content)\n",
    "\tconfiguration.append(stack_configuration)\n",
    "\n",
    "# Import movements\n",
    "movements = []\n",
    "for line in range(10,len(lines)):\n",
    "\tmovements.append(lines[line].replace('move ','').replace('from ','').replace('to ','').replace('\\n','').split(' '))\n",
    "\n",
    "# Moving crates\n",
    "for movement in movements:\t\n",
    "\tfor num in range(int(movement[0])):\n",
    "\t\tconfiguration[int(movement[2])-1].append(configuration[int(movement[1])-1].pop())\n",
    "\n",
    "\"\".join([c[-1] for c in configuration])"
   ]
  },
  {
   "cell_type": "markdown",
   "metadata": {},
   "source": [
    "## Part 2"
   ]
  },
  {
   "cell_type": "code",
   "execution_count": 74,
   "metadata": {},
   "outputs": [
    {
     "data": {
      "text/plain": [
       "'CNSCZWLVT'"
      ]
     },
     "execution_count": 74,
     "metadata": {},
     "output_type": "execute_result"
    }
   ],
   "source": [
    "# Import starting position\n",
    "configuration = []\n",
    "\n",
    "for stack in range(9):\n",
    "\tstack_configuration = []\n",
    "\tfor crate in range(7,-1, -1):\n",
    "\t\tcontent = lines[crate][stack*4+1]\n",
    "\t\tif content.isalpha():\n",
    "\t\t\tstack_configuration.append(content)\n",
    "\tconfiguration.append(stack_configuration)\n",
    "\n",
    "# Import movements\n",
    "movements = []\n",
    "for line in range(10,len(lines)):\n",
    "\tmovements.append(lines[line].replace('move ','').replace('from ','').replace('to ','').replace('\\n','').split(' '))\n",
    "\n",
    "# Moving crates\n",
    "for movement in movements:\t\n",
    "\tconfiguration[int(movement[2])-1].extend(configuration[int(movement[1])-1][-int(movement[0]):])\n",
    "\tconfiguration[int(movement[1])-1] = configuration[int(movement[1])-1][0:-int(movement[0]):]\n",
    "\n",
    "\"\".join([c[-1] for c in configuration])"
   ]
  }
 ],
 "metadata": {
  "kernelspec": {
   "display_name": "Python 3",
   "language": "python",
   "name": "python3"
  },
  "language_info": {
   "codemirror_mode": {
    "name": "ipython",
    "version": 3
   },
   "file_extension": ".py",
   "mimetype": "text/x-python",
   "name": "python",
   "nbconvert_exporter": "python",
   "pygments_lexer": "ipython3",
   "version": "3.12.0"
  }
 },
 "nbformat": 4,
 "nbformat_minor": 2
}
