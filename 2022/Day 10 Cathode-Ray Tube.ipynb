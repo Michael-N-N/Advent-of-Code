{
 "cells": [
  {
   "cell_type": "markdown",
   "metadata": {},
   "source": [
    "# Day 10: Cathode-Ray Tube"
   ]
  },
  {
   "cell_type": "markdown",
   "metadata": {},
   "source": [
    "## Part 1"
   ]
  },
  {
   "cell_type": "code",
   "execution_count": 7,
   "metadata": {},
   "outputs": [],
   "source": [
    "import numpy as np"
   ]
  },
  {
   "cell_type": "code",
   "execution_count": 69,
   "metadata": {},
   "outputs": [],
   "source": [
    "with open('input/Day 10.txt', 'r') as file:\n",
    "\tlines = [s for s in [l.replace('\\n','').split(' ') for l in file]]"
   ]
  },
  {
   "cell_type": "code",
   "execution_count": 70,
   "metadata": {},
   "outputs": [
    {
     "data": {
      "text/plain": [
       "14240.0"
      ]
     },
     "execution_count": 70,
     "metadata": {},
     "output_type": "execute_result"
    }
   ],
   "source": [
    "cycles = np.ones(1)\n",
    "target_cycles = [19, 59, 99, 139, 179, 219]\n",
    "signal_strength = 0\n",
    "\n",
    "for line in lines:\n",
    "\tcycles = np.append(cycles, cycles[-1])\n",
    "\n",
    "\tif line[0] == 'addx':\n",
    "\t\tcycles = np.append(cycles, int(line[1]) + cycles[-1])\n",
    "\n",
    "for t in target_cycles:\n",
    "\tsignal_strength += (t + 1) * cycles[t]\n",
    "\n",
    "signal_strength\n"
   ]
  },
  {
   "cell_type": "markdown",
   "metadata": {},
   "source": [
    "## Part 2"
   ]
  },
  {
   "cell_type": "code",
   "execution_count": 72,
   "metadata": {},
   "outputs": [
    {
     "name": "stdout",
     "output_type": "stream",
     "text": [
      "###  #    #  # #    #  # ###  #### #  # \n",
      "#  # #    #  # #    # #  #  #    # #  # \n",
      "#  # #    #  # #    ##   ###    #  #### \n",
      "###  #    #  # #    # #  #  #  #   #  # \n",
      "#    #    #  # #    # #  #  # #    #  # \n",
      "#    ####  ##  #### #  # ###  #### #  # \n"
     ]
    }
   ],
   "source": [
    "screen = np.full((6, 40), ' ')\n",
    "\n",
    "for row in range(6):\n",
    "\tfor i in range(40):\n",
    "\t\tp = row * (40) + i\n",
    "\t\tif i in [cycles[p] - 1, cycles[p], cycles[p] + 1]:\n",
    "\t\t\tscreen[row][i] = '#'\n",
    "\n",
    "for i in range(6):\n",
    "\tprint(''.join(screen[i]))"
   ]
  },
  {
   "cell_type": "code",
   "execution_count": null,
   "metadata": {},
   "outputs": [],
   "source": []
  }
 ],
 "metadata": {
  "kernelspec": {
   "display_name": "Python 3",
   "language": "python",
   "name": "python3"
  },
  "language_info": {
   "codemirror_mode": {
    "name": "ipython",
    "version": 3
   },
   "file_extension": ".py",
   "mimetype": "text/x-python",
   "name": "python",
   "nbconvert_exporter": "python",
   "pygments_lexer": "ipython3",
   "version": "3.12.0"
  }
 },
 "nbformat": 4,
 "nbformat_minor": 2
}
