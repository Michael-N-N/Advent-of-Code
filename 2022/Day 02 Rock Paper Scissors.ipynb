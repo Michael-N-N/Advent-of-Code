{
 "cells": [
  {
   "cell_type": "markdown",
   "metadata": {},
   "source": [
    "# Day XX: Rock Paper Scissors"
   ]
  },
  {
   "cell_type": "markdown",
   "metadata": {},
   "source": [
    "## Part 1\n",
    "https://adventofcode.com/2022/day/2"
   ]
  },
  {
   "cell_type": "code",
   "execution_count": 1,
   "metadata": {},
   "outputs": [],
   "source": [
    "opponent = 'ABC'\n",
    "we = 'XYZ'\n",
    "win_arr = '0120' # Rock, paper, scissors\n",
    "sum_points = 0"
   ]
  },
  {
   "cell_type": "code",
   "execution_count": 2,
   "metadata": {},
   "outputs": [],
   "source": [
    "def calc_points(line):\n",
    "\tpoints = 0\n",
    "\tbattle = str(opponent.find(line[0])) + str(we.find(line[-1]))\n",
    "\n",
    "\tif battle[0] == battle[1]:\n",
    "\t\tpoints += 3\n",
    "\telif battle in win_arr:\n",
    "\t\tpoints += 6\n",
    "\n",
    "\tpoints += we.find(line[-1]) + 1\n",
    "\n",
    "\treturn(points)"
   ]
  },
  {
   "cell_type": "code",
   "execution_count": 3,
   "metadata": {},
   "outputs": [],
   "source": [
    "with open('input/Day 02 Input.txt', 'r') as file:\n",
    "\tfor line in file:\n",
    "\t\tsum_points += calc_points(line.replace('\\n',''))"
   ]
  },
  {
   "cell_type": "code",
   "execution_count": 4,
   "metadata": {},
   "outputs": [
    {
     "data": {
      "text/plain": [
       "12855"
      ]
     },
     "execution_count": 4,
     "metadata": {},
     "output_type": "execute_result"
    }
   ],
   "source": [
    "sum_points"
   ]
  },
  {
   "cell_type": "markdown",
   "metadata": {},
   "source": [
    "## Part 2"
   ]
  },
  {
   "cell_type": "code",
   "execution_count": 5,
   "metadata": {},
   "outputs": [
    {
     "name": "stdout",
     "output_type": "stream",
     "text": [
      "2500\n"
     ]
    }
   ],
   "source": [
    "opponent = 'ABC'\t# Rock, paper, scissors\n",
    "todo = 'XYZ' \t\t# Lose, draw, win\n",
    "win_arr = '01201' \t# Scissors, rock, paper, scissors, rock\n",
    "sum_points = 0\n",
    "\n",
    "def calc_points_new(line):\n",
    "\tpoints = 0\n",
    "\n",
    "\topponent_pick = int(opponent.find(line[0]))\n",
    "\n",
    "\tshift = int(todo.find(line[-1])) - 1  \n",
    "\topponent_in_win_arr = win_arr[1:-1].find(str(opponent.find(line[0]))) + 1 \n",
    "\tour_pick = int(win_arr[opponent_in_win_arr + shift])\n",
    "\n",
    "\tif opponent_pick == our_pick:\n",
    "\t\tpoints +=3\n",
    "\telif shift == 1:\n",
    "\t\tpoints +=6\n",
    "\n",
    "\tpoints += our_pick + 1\n",
    "\n",
    "\treturn(points)\n",
    "\n",
    "with open('input/Day 02 Input.txt', 'r') as file:\n",
    "\ti = 0\n",
    "\tfor line in file:\n",
    "\t\tsum_points += calc_points_new(line.replace('\\n',''))\n",
    "\t\ti +=1\n",
    "\tprint(i)\n"
   ]
  },
  {
   "cell_type": "code",
   "execution_count": 6,
   "metadata": {},
   "outputs": [
    {
     "data": {
      "text/plain": [
       "13726"
      ]
     },
     "execution_count": 6,
     "metadata": {},
     "output_type": "execute_result"
    }
   ],
   "source": [
    "sum_points"
   ]
  }
 ],
 "metadata": {
  "kernelspec": {
   "display_name": "Python 3",
   "language": "python",
   "name": "python3"
  },
  "language_info": {
   "codemirror_mode": {
    "name": "ipython",
    "version": 3
   },
   "file_extension": ".py",
   "mimetype": "text/x-python",
   "name": "python",
   "nbconvert_exporter": "python",
   "pygments_lexer": "ipython3",
   "version": "3.12.0"
  }
 },
 "nbformat": 4,
 "nbformat_minor": 2
}
