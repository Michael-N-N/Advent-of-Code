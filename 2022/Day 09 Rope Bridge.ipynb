{
 "cells": [
  {
   "cell_type": "markdown",
   "metadata": {},
   "source": [
    "# Day 09: Rope Bridge"
   ]
  },
  {
   "cell_type": "markdown",
   "metadata": {},
   "source": [
    "## Part 1"
   ]
  },
  {
   "cell_type": "code",
   "execution_count": 67,
   "metadata": {},
   "outputs": [],
   "source": [
    "import numpy as np"
   ]
  },
  {
   "cell_type": "code",
   "execution_count": 127,
   "metadata": {},
   "outputs": [],
   "source": [
    "with open('input/Day 09.txt', 'r') as file:\n",
    "\tlines = [l.replace('\\n','').split(' ') for l in file]"
   ]
  },
  {
   "cell_type": "code",
   "execution_count": 73,
   "metadata": {},
   "outputs": [],
   "source": [
    "def move_head(start, direction):\n",
    "\tif direction == \"L\":\n",
    "\t\treturn [start[0] - 1, start[1]]\n",
    "\tif direction == \"R\":\n",
    "\t\treturn [start[0] + 1, start[1]]\n",
    "\tif direction == \"U\":\n",
    "\t\treturn [start[0], start[1] + 1]\n",
    "\tif direction == \"D\":\n",
    "\t\treturn [start[0], start[1] - 1]\n"
   ]
  },
  {
   "cell_type": "code",
   "execution_count": 74,
   "metadata": {},
   "outputs": [],
   "source": [
    "def are_touching(head, tail):\n",
    "\tif all(head == tail):\n",
    "\t\treturn True\n",
    "\t\n",
    "\tif head[0] - tail[0] == 0 and abs(head[1] - tail[1]) == 1:\n",
    "\t\treturn True\n",
    "\t\n",
    "\tif head[1] - tail[1] == 0 and abs(head[0] - tail[0]) == 1:\n",
    "\t\treturn True\n",
    "\t\n",
    "\tif abs(head[1] - tail[1]) == 1 and abs(head[0] - tail[0]) == 1:\n",
    "\t\treturn True\n",
    "\t\n",
    "\treturn False"
   ]
  },
  {
   "cell_type": "code",
   "execution_count": 75,
   "metadata": {},
   "outputs": [],
   "source": [
    "def move_tail(head, tail):\n",
    "\tdelta = head - tail\n",
    "\n",
    "\tif delta[0] == 0 or delta [1] == 0:\n",
    "\t\ttail = tail + delta/2\n",
    "\telse:\n",
    "\t\ttail = tail + delta/abs(delta)\n",
    "\n",
    "\treturn tail\t\t"
   ]
  },
  {
   "cell_type": "code",
   "execution_count": null,
   "metadata": {},
   "outputs": [
    {
     "data": {
      "text/plain": [
       "6190"
      ]
     },
     "execution_count": 129,
     "metadata": {},
     "output_type": "execute_result"
    }
   ],
   "source": [
    "head = np.array([0, 0]) # x, y\n",
    "tail = np.array([0, 0])\n",
    "\n",
    "positions = []\n",
    "\n",
    "for moves in lines:\n",
    "\tfor steps in range(int(moves[1])):\n",
    "\t\thead = move_head(head,moves[0])\n",
    "\n",
    "\t\tif not are_touching(head,tail):\n",
    "\t\t\ttail = move_tail(head, tail)\n",
    "\n",
    "\t\t\tif not f'{tail[0]}-{tail[1]}' in positions:\n",
    "\t\t\t\tpositions.append(f'{tail[0]}-{tail[1]}')\n",
    "\n",
    "len(positions)+1\n",
    "\t"
   ]
  },
  {
   "cell_type": "markdown",
   "metadata": {},
   "source": [
    "## Part 2"
   ]
  },
  {
   "cell_type": "code",
   "execution_count": 125,
   "metadata": {},
   "outputs": [
    {
     "data": {
      "text/plain": [
       "2516"
      ]
     },
     "execution_count": 125,
     "metadata": {},
     "output_type": "execute_result"
    }
   ],
   "source": [
    "rope = np.zeros((10, 2))\n",
    "position2 = []\n",
    "\n",
    "\n",
    "for moves in lines:\n",
    "\tfor steps in range(int(moves[1])):\n",
    "\t\trope[0] = move_head(rope[0], moves[0])\n",
    "\t\t\n",
    "\t\tfor knot in range(1,10):\n",
    "\t\t\tif not are_touching(rope[knot-1], rope[knot]):\n",
    "\t\t\t\trope[knot] = move_tail(rope[knot-1], rope[knot])\n",
    "\n",
    "\n",
    "\t\tif not f'{rope[9][0]}-{rope[9][1]}' in position2:\n",
    "\t\t\tposition2.append(f'{rope[9][0]}-{rope[9][1]}')\n",
    "\n",
    "len(position2)"
   ]
  }
 ],
 "metadata": {
  "kernelspec": {
   "display_name": "Python 3",
   "language": "python",
   "name": "python3"
  },
  "language_info": {
   "codemirror_mode": {
    "name": "ipython",
    "version": 3
   },
   "file_extension": ".py",
   "mimetype": "text/x-python",
   "name": "python",
   "nbconvert_exporter": "python",
   "pygments_lexer": "ipython3",
   "version": "3.12.0"
  }
 },
 "nbformat": 4,
 "nbformat_minor": 2
}
