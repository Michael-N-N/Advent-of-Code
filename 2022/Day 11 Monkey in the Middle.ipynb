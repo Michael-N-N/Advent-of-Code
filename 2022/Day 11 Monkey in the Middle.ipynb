{
 "cells": [
  {
   "cell_type": "markdown",
   "metadata": {},
   "source": [
    "# Day 11: Monkey in the Middle"
   ]
  },
  {
   "cell_type": "markdown",
   "metadata": {},
   "source": [
    "## Part 1"
   ]
  },
  {
   "cell_type": "code",
   "execution_count": 9,
   "metadata": {},
   "outputs": [],
   "source": [
    "import math "
   ]
  },
  {
   "cell_type": "code",
   "execution_count": 10,
   "metadata": {},
   "outputs": [],
   "source": [
    "import math \n",
    "class Monkey:\n",
    "\tdef __init__(self, items, operation, test, true_action, false_action, part):\n",
    "\t\tself.items = items\n",
    "\t\tself.operation = operation\n",
    "\t\tself.test = test\n",
    "\t\tself.true_action = true_action\n",
    "\t\tself.false_action = false_action\n",
    "\t\tself.counter = 0\n",
    "\t\tself.part = part\n",
    "    \n",
    "\tdef update(self, monkey_group):\n",
    "\n",
    "\t\tfor item in self.items:\n",
    "\n",
    "\t\t\tif self.operation[1] == 'old':\n",
    "\t\t\t\tint_operation = item\n",
    "\t\t\telse:\n",
    "\t\t\t\tint_operation = int(self.operation[1])\n",
    "\t\t\t\t\n",
    "\t\t\tif self.operation[0] == '*':\n",
    "\t\t\t\titem = item * int_operation\n",
    "\t\t\telse:\n",
    "\t\t\t\titem = item + int_operation\n",
    "\n",
    "\t\t\tif self.part == 1:\n",
    "\t\t\t\titem = math.floor(item / 3)\n",
    "\n",
    "\t\t\tif item % self.test == 0:\n",
    "\t\t\t\tmonkey_group[self.true_action].items.append(item)\n",
    "\t\t\telse:\n",
    "\t\t\t\tmonkey_group[self.false_action].items.append(item)  \n",
    "\t\t\t\n",
    "\t\t\tself.counter += 1\n",
    "\t\t\n",
    "\t\tself.items = []\n",
    "\n",
    "\t\treturn monkey_group "
   ]
  },
  {
   "cell_type": "code",
   "execution_count": 11,
   "metadata": {},
   "outputs": [],
   "source": [
    "with open('input/Day 11.txt', 'r') as file:\n",
    "\tlines = file.readlines()\n",
    "\n",
    "monkey_group = []\n",
    "\n",
    "for line_index, line in enumerate(lines):\n",
    "\tif line[:6] == 'Monkey':\n",
    "\t\tmonkey = Monkey(\n",
    "\t\t\t[int(i) for i in lines[line_index + 1].split(':')[1].split(',')],\n",
    "\t\t\t[s.replace('\\n','') for s in lines[line_index + 2].split('old ')[1].split(' ')],\n",
    "\t\t\tint(lines[line_index + 3].split('by ')[1]),\n",
    "\t\t\tint(lines[line_index + 4].split('monkey ')[1]),\n",
    "\t\t\tint(lines[line_index + 5].split('monkey ')[1]),\n",
    "\t\t\t1)\n",
    "\t\t\n",
    "\t\tmonkey_group.append(monkey)\n"
   ]
  },
  {
   "cell_type": "code",
   "execution_count": 12,
   "metadata": {},
   "outputs": [],
   "source": [
    "for round in range(20):\n",
    "\tfor m in range(len(monkey_group)):\n",
    "\t\tmonkey_group = monkey_group[m].update(monkey_group)"
   ]
  },
  {
   "cell_type": "code",
   "execution_count": 13,
   "metadata": {},
   "outputs": [
    {
     "data": {
      "text/plain": [
       "56595"
      ]
     },
     "execution_count": 13,
     "metadata": {},
     "output_type": "execute_result"
    }
   ],
   "source": [
    "result = [m.counter for m in monkey_group]\n",
    "result.sort()\n",
    "result[-1] * result[-2]"
   ]
  }
 ],
 "metadata": {
  "kernelspec": {
   "display_name": "Python 3",
   "language": "python",
   "name": "python3"
  },
  "language_info": {
   "codemirror_mode": {
    "name": "ipython",
    "version": 3
   },
   "file_extension": ".py",
   "mimetype": "text/x-python",
   "name": "python",
   "nbconvert_exporter": "python",
   "pygments_lexer": "ipython3",
   "version": "3.12.0"
  }
 },
 "nbformat": 4,
 "nbformat_minor": 2
}
