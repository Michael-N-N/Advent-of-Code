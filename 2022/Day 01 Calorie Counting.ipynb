{
 "cells": [
  {
   "cell_type": "markdown",
   "metadata": {},
   "source": [
    "# Day 01: Calorie Counting"
   ]
  },
  {
   "cell_type": "markdown",
   "metadata": {},
   "source": [
    "## Part 1\n",
    "https://adventofcode.com/2022/day/1"
   ]
  },
  {
   "cell_type": "code",
   "execution_count": 20,
   "metadata": {},
   "outputs": [
    {
     "name": "stdout",
     "output_type": "stream",
     "text": [
      "74198\n"
     ]
    }
   ],
   "source": [
    "cal_arr = []\n",
    "cal_sum = 0\n",
    "\n",
    "with open('Day 01 Input.txt', 'r') as file:\n",
    "\tfor line in file:\n",
    "\t\tif len(line) > 1:\n",
    "\t\t\tcal_sum += int(line[:-1])\n",
    "\t\telse:\n",
    "\t\t\tcal_arr.append(cal_sum)\n",
    "\t\t\tcal_sum = 0\n",
    "\n",
    "print(max(cal_arr))\n"
   ]
  },
  {
   "cell_type": "markdown",
   "metadata": {},
   "source": [
    "## Part 2\n",
    "https://adventofcode.com/2022/day/1#part2"
   ]
  },
  {
   "cell_type": "code",
   "execution_count": 26,
   "metadata": {},
   "outputs": [
    {
     "data": {
      "text/plain": [
       "209914"
      ]
     },
     "execution_count": 26,
     "metadata": {},
     "output_type": "execute_result"
    }
   ],
   "source": [
    "cal_arr.sort()\n",
    "sum(cal_arr[-3:])"
   ]
  }
 ],
 "metadata": {
  "kernelspec": {
   "display_name": "Python 3",
   "language": "python",
   "name": "python3"
  },
  "language_info": {
   "codemirror_mode": {
    "name": "ipython",
    "version": 3
   },
   "file_extension": ".py",
   "mimetype": "text/x-python",
   "name": "python",
   "nbconvert_exporter": "python",
   "pygments_lexer": "ipython3",
   "version": "3.12.0"
  }
 },
 "nbformat": 4,
 "nbformat_minor": 2
}
