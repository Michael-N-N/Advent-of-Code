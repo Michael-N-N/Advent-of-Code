{
 "cells": [
  {
   "cell_type": "markdown",
   "metadata": {},
   "source": [
    "# Day 06: Tuning Trouble\n",
    "https://adventofcode.com/2022/day/6"
   ]
  },
  {
   "cell_type": "markdown",
   "metadata": {},
   "source": [
    "## Part 1"
   ]
  },
  {
   "cell_type": "code",
   "execution_count": 38,
   "metadata": {},
   "outputs": [
    {
     "name": "stdout",
     "output_type": "stream",
     "text": [
      "1080\n"
     ]
    }
   ],
   "source": [
    "with open('input/Day 06.txt', 'r') as file:\n",
    "\tlines = file.readlines()\n",
    "\n",
    "counter = 0\n",
    "\n",
    "while True:\n",
    "\tif len(set(lines[0][counter:counter+4])) == 4:\n",
    "\t\tbreak\n",
    "\n",
    "\tcounter += 1\n",
    "\n",
    "print(counter+4)"
   ]
  },
  {
   "cell_type": "markdown",
   "metadata": {},
   "source": [
    "## Part 2"
   ]
  },
  {
   "cell_type": "code",
   "execution_count": 42,
   "metadata": {},
   "outputs": [
    {
     "name": "stdout",
     "output_type": "stream",
     "text": [
      "3645\n"
     ]
    }
   ],
   "source": [
    "with open('input/Day 06.txt', 'r') as file:\n",
    "\tlines = file.readlines()\n",
    "\n",
    "counter = 0\n",
    "\n",
    "while True:\n",
    "\tif len(set(lines[0][counter:counter+14])) == 14:\n",
    "\t\tbreak\n",
    "\n",
    "\tcounter += 1\n",
    "\n",
    "print(counter+14)"
   ]
  }
 ],
 "metadata": {
  "kernelspec": {
   "display_name": "Python 3",
   "language": "python",
   "name": "python3"
  },
  "language_info": {
   "codemirror_mode": {
    "name": "ipython",
    "version": 3
   },
   "file_extension": ".py",
   "mimetype": "text/x-python",
   "name": "python",
   "nbconvert_exporter": "python",
   "pygments_lexer": "ipython3",
   "version": "3.12.0"
  }
 },
 "nbformat": 4,
 "nbformat_minor": 2
}
