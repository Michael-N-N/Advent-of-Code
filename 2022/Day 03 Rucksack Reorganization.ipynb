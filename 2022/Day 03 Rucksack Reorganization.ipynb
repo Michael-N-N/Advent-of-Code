{
 "cells": [
  {
   "cell_type": "markdown",
   "metadata": {},
   "source": [
    "# Day 03: Rucksack Reorganization\n",
    "https://adventofcode.com/2022/day/3"
   ]
  },
  {
   "cell_type": "markdown",
   "metadata": {},
   "source": [
    "## Part 1\n",
    "[link]"
   ]
  },
  {
   "cell_type": "code",
   "execution_count": 3,
   "metadata": {},
   "outputs": [],
   "source": [
    "import numpy as np\n",
    "from functools import reduce"
   ]
  },
  {
   "cell_type": "code",
   "execution_count": 4,
   "metadata": {},
   "outputs": [
    {
     "data": {
      "text/plain": [
       "8072"
      ]
     },
     "execution_count": 4,
     "metadata": {},
     "output_type": "execute_result"
    }
   ],
   "source": [
    "sum_points = 0\n",
    "\n",
    "def get_priority(line):\n",
    "\ta = np.array([s for s in line[0:int(len(line)/2)]])\n",
    "\tb = np.array([s for s in line[int(len(line)/2):]])\n",
    "\n",
    "\terror = np.intersect1d(a,b)[0]\n",
    "\tif error.isupper():\n",
    "\t\treturn ord(error)-38\n",
    "\telse:\n",
    "\t\treturn ord(error)-96\n",
    "\n",
    "\n",
    "with open('input/Day 03 Input.txt', 'r') as file:\n",
    "\tfor line in file:\n",
    "\t\tsum_points += get_priority(line.replace('\\n',''))\n",
    "\n",
    "sum_points\n"
   ]
  },
  {
   "cell_type": "markdown",
   "metadata": {},
   "source": [
    "## Part 2"
   ]
  },
  {
   "cell_type": "code",
   "execution_count": 5,
   "metadata": {},
   "outputs": [],
   "source": [
    "with open('input/Day 03 Input.txt', 'r') as file:\n",
    "\tlines = file.readlines()\n"
   ]
  },
  {
   "cell_type": "code",
   "execution_count": 6,
   "metadata": {},
   "outputs": [],
   "source": [
    "elves_groups = [[\n",
    "\tlines[3*i].replace('\\n',''),\n",
    "\tlines[3*i+1].replace('\\n',''),\n",
    "\tlines[3*i+2].replace('\\n','')] \n",
    "\t\tfor i \n",
    "\t\tin range(int(len(lines)/3))]"
   ]
  },
  {
   "cell_type": "code",
   "execution_count": 7,
   "metadata": {},
   "outputs": [],
   "source": [
    "result = []\n",
    "\n",
    "for elves_group in elves_groups:\n",
    "\tbadge = reduce(\n",
    "\t\tnp.intersect1d, \n",
    "\t\t(np.array([s for s in elves_group[0]]),\n",
    "\t\t\tnp.array([s for s in elves_group[1]]),\n",
    "\t\t\tnp.array([s for s in elves_group[2]])))[0]\n",
    "\t\n",
    "\tif badge.isupper():\n",
    "\t\tresult.append(ord(badge)-38)\n",
    "\telse:\n",
    "\t\tresult.append(ord(badge)-96)"
   ]
  },
  {
   "cell_type": "code",
   "execution_count": 8,
   "metadata": {},
   "outputs": [
    {
     "data": {
      "text/plain": [
       "2567"
      ]
     },
     "execution_count": 8,
     "metadata": {},
     "output_type": "execute_result"
    }
   ],
   "source": [
    "sum(result)"
   ]
  }
 ],
 "metadata": {
  "kernelspec": {
   "display_name": "Python 3",
   "language": "python",
   "name": "python3"
  },
  "language_info": {
   "codemirror_mode": {
    "name": "ipython",
    "version": 3
   },
   "file_extension": ".py",
   "mimetype": "text/x-python",
   "name": "python",
   "nbconvert_exporter": "python",
   "pygments_lexer": "ipython3",
   "version": "3.12.0"
  }
 },
 "nbformat": 4,
 "nbformat_minor": 2
}
