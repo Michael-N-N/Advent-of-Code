{
 "cells": [
  {
   "cell_type": "markdown",
   "metadata": {},
   "source": [
    "# Day 04: Camp Cleanup\n",
    "https://adventofcode.com/2022/day/4"
   ]
  },
  {
   "cell_type": "markdown",
   "metadata": {},
   "source": [
    "## Part 1"
   ]
  },
  {
   "cell_type": "code",
   "execution_count": null,
   "metadata": {},
   "outputs": [
    {
     "name": "stdout",
     "output_type": "stream",
     "text": [
      "605\n"
     ]
    }
   ],
   "source": [
    "counter = 0\n",
    "\n",
    "with open('Day 04 Input.txt', 'r') as file:\n",
    "\tfor line in file:\n",
    "\t\tif len(line) <5: continue\n",
    "\t\telve_1, elve_2 = line.replace('\\n','').split(\",\")\n",
    "\t\telve_1 = elve_1.split(\"-\")\n",
    "\t\telve_2 = elve_2.split(\"-\")\n",
    "\n",
    "\t\tif (int(elve_1[0])<=int(elve_2[0]) and int(elve_1[1])>=int(elve_2[1])) or ( \n",
    "\t\t\tint(elve_1[0])>=int(elve_2[0]) and int(elve_1[1])<=int(elve_2[1])):\n",
    "\n",
    "\t\t\tcounter +=1\n",
    "\n",
    "print(counter)"
   ]
  },
  {
   "cell_type": "markdown",
   "metadata": {},
   "source": [
    "## Part 2"
   ]
  },
  {
   "cell_type": "code",
   "execution_count": 24,
   "metadata": {},
   "outputs": [
    {
     "name": "stdout",
     "output_type": "stream",
     "text": [
      "914\n"
     ]
    }
   ],
   "source": [
    "counter = 0\n",
    "\n",
    "with open('Day 04 Input.txt', 'r') as file:\n",
    "\tfor line in file:\n",
    "\t\tif len(line) <5: continue\n",
    "\t\telve_1, elve_2 = line.replace('\\n','').split(\",\")\n",
    "\t\telve_1 = elve_1.split(\"-\")\n",
    "\t\telve_2 = elve_2.split(\"-\")\n",
    "\n",
    "\t\tif not(int(elve_1[1])<int(elve_2[0]) or int(elve_2[1]) < int(elve_1[0])):\n",
    "\t\t\tcounter +=1\n",
    "\n",
    "print(counter)"
   ]
  },
  {
   "cell_type": "markdown",
   "metadata": {},
   "source": []
  }
 ],
 "metadata": {
  "kernelspec": {
   "display_name": "Python 3",
   "language": "python",
   "name": "python3"
  },
  "language_info": {
   "codemirror_mode": {
    "name": "ipython",
    "version": 3
   },
   "file_extension": ".py",
   "mimetype": "text/x-python",
   "name": "python",
   "nbconvert_exporter": "python",
   "pygments_lexer": "ipython3",
   "version": "3.12.0"
  }
 },
 "nbformat": 4,
 "nbformat_minor": 2
}
