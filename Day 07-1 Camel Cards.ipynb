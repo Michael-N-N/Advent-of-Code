{
 "cells": [
  {
   "cell_type": "markdown",
   "metadata": {},
   "source": [
    "# Day 7-1: Camel Cards\n",
    "https://adventofcode.com/2023/day/7"
   ]
  },
  {
   "cell_type": "code",
   "execution_count": 8,
   "metadata": {},
   "outputs": [],
   "source": [
    "import pandas as pd"
   ]
  },
  {
   "cell_type": "code",
   "execution_count": 11,
   "metadata": {},
   "outputs": [],
   "source": [
    "def is_type(hand):\n",
    "\n",
    "\tn_diff_cards = len(set(hand))\n",
    "\tset_cards = list(set(hand))\n",
    "\toccurence = sorted([sum([\n",
    "\t\t1 for card in hand if card == set_cards[j]]) \n",
    "\t\t\tfor j in range(len(set_cards))],\n",
    "\t\t\treverse=True)\n",
    "\n",
    "\tif n_diff_cards == 1:\n",
    "\t\treturn 1 \t\t# Five of a kind\n",
    "\t\n",
    "\tif n_diff_cards == 2:\n",
    "\t\tif occurence[0] == 4:\n",
    "\t\t\treturn 2 \t# Four of a kind\n",
    "\t\t\n",
    "\t\tif occurence[0] == 3:\n",
    "\t\t\treturn 3 \t# Full house of a kind\n",
    "\t\n",
    "\tif n_diff_cards == 3:\n",
    "\t\tif occurence[0] == 3:\n",
    "\t\t\treturn 4 \t# Three of a kind\n",
    "\t\n",
    "\t\tif occurence[0] == 2 and occurence[1] == 2:\n",
    "\t\t\treturn 5 \t# Two pair\n",
    "\t\t\n",
    "\tif n_diff_cards == 4:\n",
    "\t\treturn 6 \t\t# One pair\n",
    "\t\n",
    "\treturn 7 \t\t\t# Higest card"
   ]
  },
  {
   "cell_type": "code",
   "execution_count": 12,
   "metadata": {},
   "outputs": [
    {
     "data": {
      "text/plain": [
       "251287184"
      ]
     },
     "execution_count": 12,
     "metadata": {},
     "output_type": "execute_result"
    }
   ],
   "source": [
    "data = []\n",
    "hex = \"123456789ABCDEF\"\n",
    "cards = \"123456789TJQKA\"\n",
    "\n",
    "with open(\"Day 07-0 Input.txt\", 'r') as file:\n",
    "\tfor line in file:\n",
    "\t\thand, bid = line.split(' ')\n",
    "\n",
    "\t\tdata.append([\n",
    "\t\t\thand, \n",
    "\t\t\tint(bid.replace('\\n','')), \n",
    "\t\t\tis_type(hand), \n",
    "\t\t\tint(\"\".join([hex[cards.find(i)] for i in hand]), 16)])\n",
    "\n",
    "df = pd.DataFrame(data, columns=['hand', 'bid', 'type', 'rank'])\n",
    "df_sorted = df.sort_values(by=['type', 'rank'], ascending=[False, True]).reset_index(drop=True)\n",
    "\n",
    "total_win = 0 \n",
    "\n",
    "for index, row in df_sorted.iterrows():\n",
    "\ttotal_win += (index+1) * row['bid']\n",
    "\n",
    "total_win\n"
   ]
  }
 ],
 "metadata": {
  "kernelspec": {
   "display_name": "Python 3",
   "language": "python",
   "name": "python3"
  },
  "language_info": {
   "codemirror_mode": {
    "name": "ipython",
    "version": 3
   },
   "file_extension": ".py",
   "mimetype": "text/x-python",
   "name": "python",
   "nbconvert_exporter": "python",
   "pygments_lexer": "ipython3",
   "version": "3.12.0"
  }
 },
 "nbformat": 4,
 "nbformat_minor": 2
}
