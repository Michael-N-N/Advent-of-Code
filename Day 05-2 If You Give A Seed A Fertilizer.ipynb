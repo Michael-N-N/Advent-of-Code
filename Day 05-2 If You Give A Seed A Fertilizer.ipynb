{
 "cells": [
  {
   "cell_type": "markdown",
   "metadata": {},
   "source": [
    "# Day 5-2: If You Give A Seed A Fertilizer\n",
    "\n",
    "# incomplete\n",
    "\n",
    "https://adventofcode.com/2023/day/5"
   ]
  },
  {
   "cell_type": "code",
   "execution_count": 45,
   "metadata": {},
   "outputs": [],
   "source": [
    "import pandas as pd"
   ]
  },
  {
   "cell_type": "code",
   "execution_count": 46,
   "metadata": {},
   "outputs": [],
   "source": [
    "# import data\n",
    "with open(\"Day 05-0 Input.txt\", 'r') as file:\n",
    "\tlines = file.readlines()\n",
    "\n",
    "seeds = [int(s) for s in lines[0].split(':')[1].strip().split(' ')]\n",
    "seeds = [[value, seeds[index+1]] for index, value in enumerate(seeds) if index %2 == 0]\n",
    "\n",
    "mapping = []\n",
    "map_counter = -1\n",
    "\n",
    "for line in lines:\n",
    "\tif 'map' in line:\n",
    "\t\tmap_counter += 1\n",
    "\n",
    "\tif line[0].isnumeric():\n",
    "\t\tmap = [int(i) for i in line.split(' ')]\n",
    "\n",
    "\t\tmapping.append([\n",
    "\t\t\tmap_counter,\n",
    "\t\t\tmap[1],\n",
    "\t\t\tmap[1]+map[2]-1,\n",
    "\t\t\tmap[0]-map[1]])\n",
    "\t\t\t\n",
    "df = pd.DataFrame(mapping, columns=['map', 'source_start', 'source_end', 'offset'])\n",
    "\n",
    "\n"
   ]
  },
  {
   "cell_type": "code",
   "execution_count": 47,
   "metadata": {},
   "outputs": [],
   "source": [
    "def get_new_pos(df, map, origin):\n",
    "\tresult = df.loc[(df['map'] == map) & (df['source_start']<= origin) & (df['source_end']>= origin)]\n",
    "\n",
    "\tif len(result) == 1:\n",
    "\t\treturn (result['offset'].iloc[0]+origin)\n",
    "\t\n",
    "\telse:\n",
    "\t\treturn origin\n"
   ]
  },
  {
   "cell_type": "code",
   "execution_count": 48,
   "metadata": {},
   "outputs": [
    {
     "name": "stdout",
     "output_type": "stream",
     "text": [
      "46\n"
     ]
    }
   ],
   "source": [
    "loc_arr = []\n",
    "\n",
    "for seed_start in seeds:\n",
    "\tfor seed in range(seed_start[0], seed_start[0] + seed_start[1]):\n",
    "\t\tlocation = seed\n",
    "\t\tfor steps in range(8):\n",
    "\t\t\tlocation = get_new_pos(df, steps, location)\n",
    "\t\tloc_arr.append(location)\n",
    "\n",
    "print(min(loc_arr))"
   ]
  }
 ],
 "metadata": {
  "kernelspec": {
   "display_name": "Python 3",
   "language": "python",
   "name": "python3"
  },
  "language_info": {
   "codemirror_mode": {
    "name": "ipython",
    "version": 3
   },
   "file_extension": ".py",
   "mimetype": "text/x-python",
   "name": "python",
   "nbconvert_exporter": "python",
   "pygments_lexer": "ipython3",
   "version": "3.12.0"
  }
 },
 "nbformat": 4,
 "nbformat_minor": 2
}
