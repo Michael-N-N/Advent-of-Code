{
 "cells": [
  {
   "cell_type": "markdown",
   "metadata": {},
   "source": [
    "# Day 2: Cube Conundrum \n",
    "https://adventofcode.com/2023/day/2#part2"
   ]
  },
  {
   "cell_type": "code",
   "execution_count": 2,
   "metadata": {},
   "outputs": [
    {
     "name": "stdout",
     "output_type": "stream",
     "text": [
      "71220\n"
     ]
    }
   ],
   "source": [
    "counter = 0\n",
    "\n",
    "with open('Day 02-0 Input.txt', 'r') as file:\n",
    "\tfor line in file:\n",
    "\n",
    "\t\t# build a list with dicitionaries\n",
    "\t\tgame_ID, games = line.replace('\\n','').split(\": \")\n",
    "\t\tgames = games.split(\"; \")\n",
    "\n",
    "\t\tfor index, game in enumerate(games):\n",
    "\t\t\ttmp = game.split(\", \")\n",
    "\t\t\ttmp_dict = {}\n",
    "\n",
    "\t\t\tfor set_index, gameset in enumerate(tmp):\n",
    "\t\t\t\ttmp_set = gameset.split(\" \")\n",
    "\t\t\t\ttmp_dict.update({tmp_set[1]:int(tmp_set[0])})\n",
    "\n",
    "\t\t\tgames[index] = tmp_dict\n",
    "\n",
    "\t\t# \n",
    "\t\tmin_values = {'green': 0, 'blue': 0, 'red': 0}\n",
    "\n",
    "\t\tfor game in games:\n",
    "\t\t\tfor tag in game:\n",
    "\t\t\t\tmin_values[tag] = max(min_values[tag], game[tag])\n",
    "\n",
    "\t\tcounter += min_values['green'] * min_values['blue'] * min_values['red']\n",
    "\n",
    "print(counter)"
   ]
  }
 ],
 "metadata": {
  "kernelspec": {
   "display_name": "Python 3",
   "language": "python",
   "name": "python3"
  },
  "language_info": {
   "codemirror_mode": {
    "name": "ipython",
    "version": 3
   },
   "file_extension": ".py",
   "mimetype": "text/x-python",
   "name": "python",
   "nbconvert_exporter": "python",
   "pygments_lexer": "ipython3",
   "version": "3.12.0"
  }
 },
 "nbformat": 4,
 "nbformat_minor": 2
}
