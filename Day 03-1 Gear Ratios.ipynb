{
 "cells": [
  {
   "cell_type": "markdown",
   "metadata": {},
   "source": [
    "# Day 3: Gear Ratios\n",
    "https://adventofcode.com/2023/day/3"
   ]
  },
  {
   "cell_type": "code",
   "execution_count": 1,
   "metadata": {},
   "outputs": [],
   "source": [
    "import numpy as np"
   ]
  },
  {
   "cell_type": "code",
   "execution_count": 62,
   "metadata": {},
   "outputs": [],
   "source": [
    "with open(\"Day 03-0 Gear Ratios.txt\", 'r') as file:\n",
    "    content = file.read() + \".\"\n",
    "    \n",
    "line_len = content.find('\\n')\n",
    "\n",
    "content = \".\"*line_len + \"\\n\" + content +  \".\"*line_len + \"\\n\" # add empty rows around the data. THis makes the code late easier.\n",
    "\n",
    "char_array = np.array(list(content), dtype='str')\n",
    "\n",
    "new_shape = (int((len(content)+1) / (line_len+1)),line_len + 1)\n",
    "\n",
    "schematic = char_array.reshape(new_shape)[:, :-1] # array with the machine scheme\n",
    "\n"
   ]
  },
  {
   "cell_type": "code",
   "execution_count": 61,
   "metadata": {},
   "outputs": [],
   "source": [
    "def is_symbol(c):\n",
    "\tif c.isnumeric() or c == \".\":\n",
    "\t\treturn False\n",
    "\t\n",
    "\treturn True\n",
    "\t\n",
    "\n",
    "def is_part_number(schematic, row, cols):  # row = int, cols = array\n",
    "\t# left\n",
    "\tif cols[0] != 0:\n",
    "\t\tfor r in range(row-1, row+2):\n",
    "\t\t\tif is_symbol(schematic[r][cols[0]-1]):\n",
    "\t\t\t\treturn True\n",
    "\t\t\t\n",
    "\t# right\n",
    "\tif cols[1] != schematic.shape[1]-1:\n",
    "\t\tfor r in range(row-1, row+2):\n",
    "\t\t\tif is_symbol(schematic[r][cols[1]+1]):\n",
    "\t\t\t\treturn True\n",
    "\t\t\t\n",
    "\t# top\n",
    "\tfor col in range(cols[0],cols[1]+1):\n",
    "\t\tif is_symbol(schematic[row-1][col]):\n",
    "\t\t\treturn True\n",
    "\t\t\n",
    "\t# bottom\n",
    "\tfor col in range(cols[0],cols[1]+1):\n",
    "\t\tif is_symbol(schematic[row+1][col]):\n",
    "\t\t\treturn True\n",
    "\n",
    "\treturn False"
   ]
  },
  {
   "cell_type": "code",
   "execution_count": 60,
   "metadata": {},
   "outputs": [
    {
     "name": "stdout",
     "output_type": "stream",
     "text": [
      "512794\n"
     ]
    }
   ],
   "source": [
    "part_numbers = 0\n",
    "\n",
    "for row in range(1,schematic.shape[0]-1):\n",
    "\n",
    "\t# array for a line with the position of the numbers\n",
    "\tnumber_arr = []\n",
    "\tstart = 0\n",
    "\n",
    "\twhile start < line_len:\n",
    "\t\tif schematic[row][start].isnumeric():\n",
    "\t\t\tend = start+1\n",
    "\t\t\t\n",
    "\t\t\twhile end < line_len:\n",
    "\t\t\t\tif not schematic[row][end].isnumeric():\n",
    "\t\t\t\t\tbreak\n",
    "\t\t\t\tend += 1\n",
    "\n",
    "\t\t\tnumber_arr.append([start, end-1])\n",
    "\n",
    "\t\t\tstart = end\t\n",
    "\n",
    "\t\tstart += 1\n",
    "\n",
    "\t# check if number is a part number\n",
    "\tfor number in number_arr:\n",
    "\t\tif is_part_number(schematic, row, number):\n",
    "\t\t\tcurrent_number = int(\"\".join(\n",
    "\t\t\t\t[schematic[row][n] \n",
    "\t\t\t\t\tfor n \n",
    "\t\t\t\t\tin range(number[0], number[1]+1)]))\n",
    "\t\t\t#print(current_number)\n",
    "\t\t\tpart_numbers += current_number\n",
    "\n",
    "print(part_numbers)\n",
    "\t\t\n"
   ]
  }
 ],
 "metadata": {
  "kernelspec": {
   "display_name": "Python 3",
   "language": "python",
   "name": "python3"
  },
  "language_info": {
   "codemirror_mode": {
    "name": "ipython",
    "version": 3
   },
   "file_extension": ".py",
   "mimetype": "text/x-python",
   "name": "python",
   "nbconvert_exporter": "python",
   "pygments_lexer": "ipython3",
   "version": "3.12.0"
  }
 },
 "nbformat": 4,
 "nbformat_minor": 2
}
