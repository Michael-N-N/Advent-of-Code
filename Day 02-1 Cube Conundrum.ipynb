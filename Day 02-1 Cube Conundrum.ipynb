{
 "cells": [
  {
   "cell_type": "markdown",
   "metadata": {},
   "source": [
    "# Day 2: Cube Conundrum \n",
    "https://adventofcode.com/2023/day/2"
   ]
  },
  {
   "cell_type": "code",
   "execution_count": 55,
   "metadata": {},
   "outputs": [
    {
     "name": "stdout",
     "output_type": "stream",
     "text": [
      "2377\n"
     ]
    }
   ],
   "source": [
    "counter = 0\n",
    "\n",
    "with open('Day 02-0 Input.txt', 'r') as file:\n",
    "\tfor line in file:\n",
    "\n",
    "\t\t# build a list with dicitionaries\n",
    "\t\tgame_ID, games = line.replace('\\n','').split(\": \")\n",
    "\t\tgames = games.split(\"; \")\n",
    "\n",
    "\t\tfor index, game in enumerate(games):\n",
    "\t\t\ttmp = game.split(\", \")\n",
    "\t\t\ttmp_dict = {}\n",
    "\n",
    "\t\t\tfor set_index, gameset in enumerate(tmp):\n",
    "\t\t\t\ttmp_set = gameset.split(\" \")\n",
    "\t\t\t\ttmp_dict.update({tmp_set[1]:int(tmp_set[0])})\n",
    "\n",
    "\t\t\tgames[index] = tmp_dict\n",
    "\n",
    "\t\t# check sums\n",
    "\t\tmax_values = {'green': 13, 'blue': 14, 'red': 12}\n",
    "\t\tgame_possible = True\n",
    "\n",
    "\t\tfor game in games:\n",
    "\t\t\tfor tag in game:\n",
    "\t\t\t\tif max_values[tag] < game[tag]:\n",
    "\t\t\t\t\tgame_possible = False\n",
    "\n",
    "\t\tif game_possible:\n",
    "\t\t\tcounter += int(game_ID.split(' ')[1])\n",
    "\n",
    "print(counter)\n",
    "\n"
   ]
  }
 ],
 "metadata": {
  "kernelspec": {
   "display_name": "Python 3",
   "language": "python",
   "name": "python3"
  },
  "language_info": {
   "codemirror_mode": {
    "name": "ipython",
    "version": 3
   },
   "file_extension": ".py",
   "mimetype": "text/x-python",
   "name": "python",
   "nbconvert_exporter": "python",
   "pygments_lexer": "ipython3",
   "version": "3.12.0"
  }
 },
 "nbformat": 4,
 "nbformat_minor": 2
}
