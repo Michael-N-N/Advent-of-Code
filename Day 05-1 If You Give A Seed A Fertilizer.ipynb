{
 "cells": [
  {
   "cell_type": "markdown",
   "metadata": {},
   "source": [
    "# Day 5-1: If You Give A Seed A Fertilizer\n",
    "\n",
    "https://adventofcode.com/2023/day/5"
   ]
  },
  {
   "cell_type": "code",
   "execution_count": 83,
   "metadata": {},
   "outputs": [],
   "source": [
    "import pandas as pd"
   ]
  },
  {
   "cell_type": "code",
   "execution_count": 84,
   "metadata": {},
   "outputs": [],
   "source": [
    "# import data\n",
    "with open(\"Day 05-0 Input.txt\", 'r') as file:\n",
    "\tlines = file.readlines()\n",
    "\n",
    "seeds = [int(s) for s in lines[0].split(':')[1].strip().split(' ')]\n",
    "\n",
    "mapping = []\n",
    "map_counter = -1\n",
    "\n",
    "for line in lines:\n",
    "\tif 'map' in line:\n",
    "\t\tmap_counter += 1\n",
    "\n",
    "\tif line[0].isnumeric():\n",
    "\t\tmap = [int(i) for i in line.split(' ')]\n",
    "\n",
    "\t\tmapping.append([\n",
    "\t\t\tmap_counter,\n",
    "\t\t\tmap[1],\n",
    "\t\t\tmap[1]+map[2]-1,\n",
    "\t\t\tmap[0]-map[1]])\n",
    "\t\t\t\n",
    "df = pd.DataFrame(mapping, columns=['map', 'source_start', 'source_end', 'offset'])\n",
    "\n"
   ]
  },
  {
   "cell_type": "code",
   "execution_count": 85,
   "metadata": {},
   "outputs": [],
   "source": [
    "def get_new_pos(df, map, origin):\n",
    "\tresult = df.loc[(df['map'] == map) & (df['source_start']<= origin) & (df['source_end']>= origin)]\n",
    "\n",
    "\tif len(result) == 1:\n",
    "\t\treturn (result['offset'].iloc[0]+origin)\n",
    "\t\n",
    "\telse:\n",
    "\t\treturn origin\n"
   ]
  },
  {
   "cell_type": "code",
   "execution_count": 86,
   "metadata": {},
   "outputs": [
    {
     "name": "stdout",
     "output_type": "stream",
     "text": [
      "173706076\n"
     ]
    }
   ],
   "source": [
    "loc_arr = []\n",
    "\n",
    "for seed in seeds:\n",
    "\tlocation = seed\n",
    "\tfor steps in range(8):\n",
    "\t\tlocation = get_new_pos(df, steps, location)\n",
    "\tloc_arr.append(location)\n",
    "\n",
    "print(min(loc_arr))"
   ]
  }
 ],
 "metadata": {
  "kernelspec": {
   "display_name": "Python 3",
   "language": "python",
   "name": "python3"
  },
  "language_info": {
   "codemirror_mode": {
    "name": "ipython",
    "version": 3
   },
   "file_extension": ".py",
   "mimetype": "text/x-python",
   "name": "python",
   "nbconvert_exporter": "python",
   "pygments_lexer": "ipython3",
   "version": "3.12.0"
  }
 },
 "nbformat": 4,
 "nbformat_minor": 2
}
