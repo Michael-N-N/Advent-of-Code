{
 "cells": [
  {
   "cell_type": "markdown",
   "metadata": {},
   "source": [
    "# Day 3-2: Gear Ratios\n",
    "https://adventofcode.com/2023/day/3#part2"
   ]
  },
  {
   "cell_type": "code",
   "execution_count": 1,
   "metadata": {},
   "outputs": [],
   "source": [
    "import numpy as np"
   ]
  },
  {
   "cell_type": "code",
   "execution_count": 3,
   "metadata": {},
   "outputs": [
    {
     "data": {
      "text/plain": [
       "array([['.', '.', '.', '.', '.', '.', '.', '.', '.', '.'],\n",
       "       ['4', '6', '7', '.', '.', '1', '1', '4', '.', '.'],\n",
       "       ['.', '.', '.', '*', '.', '.', '.', '.', '.', '.'],\n",
       "       ['.', '.', '3', '5', '.', '.', '6', '3', '3', '.'],\n",
       "       ['.', '.', '.', '.', '.', '.', '#', '.', '.', '.'],\n",
       "       ['6', '1', '7', '*', '.', '.', '.', '.', '.', '.'],\n",
       "       ['.', '.', '.', '.', '.', '+', '.', '5', '8', '.'],\n",
       "       ['.', '.', '5', '9', '2', '.', '.', '.', '.', '.'],\n",
       "       ['.', '.', '.', '.', '.', '.', '7', '5', '5', '.'],\n",
       "       ['.', '.', '.', '$', '.', '*', '.', '.', '.', '.'],\n",
       "       ['.', '6', '6', '4', '.', '5', '9', '8', '.', '.'],\n",
       "       ['.', '.', '.', '.', '.', '.', '.', '.', '.', '.']], dtype='<U1')"
      ]
     },
     "execution_count": 3,
     "metadata": {},
     "output_type": "execute_result"
    }
   ],
   "source": [
    "with open(\"Day 03-0 Gear Ratios.txt\", 'r') as file:\n",
    "    content = file.read() + \".\"\n",
    "    \n",
    "line_len = content.find('\\n')\n",
    "\n",
    "content = \".\"*line_len + \"\\n\" + content +  \".\"*line_len + \"\\n\" # add empty rows around the data. THis makes the code late easier.\n",
    "\n",
    "char_array = np.array(list(content), dtype='str')\n",
    "\n",
    "new_shape = (int((len(content)+1) / (line_len+1)),line_len + 1)\n",
    "\n",
    "schematic = char_array.reshape(new_shape)[:, :-1] # array with the machine scheme\n",
    "schematic\n"
   ]
  },
  {
   "cell_type": "code",
   "execution_count": 36,
   "metadata": {},
   "outputs": [],
   "source": [
    "# Create a dictionary with the positions of the asterisks\n",
    "star_positions = [[int(index/line_len+1)-1,index%(line_len+1)] for index, char in enumerate(content) if char == \"*\"]\n",
    "star_dict = {}\n",
    "for star in star_positions:\n",
    "\tstar_dict[str(star)]=  []\n"
   ]
  },
  {
   "cell_type": "code",
   "execution_count": 45,
   "metadata": {},
   "outputs": [],
   "source": [
    "def is_part_number(schematic, row, cols):  # row = int, cols = array\n",
    "\t# left\n",
    "\tif cols[0] != 0:\n",
    "\t\tfor r in range(row-1, row+2):\n",
    "\t\t\tif (schematic[r][cols[0]-1]) ==\"*\":\n",
    "\t\t\t\treturn [True, [r][cols[0]-1]]\n",
    "\t\t\t\n",
    "\t# right\n",
    "\tif cols[1] != schematic.shape[1]-1:\n",
    "\t\tfor r in range(row-1, row+2):\n",
    "\t\t\tif (schematic[r][cols[1]+1])==\"*\":\n",
    "\t\t\t\treturn [True, [r][cols[1]+1]]\n",
    "\t\t\t\n",
    "\t# top\n",
    "\tfor col in range(cols[0],cols[1]+1):\n",
    "\t\tif (schematic[row-1][col])==\"*\":\n",
    "\t\t\treturn [True, [row-1][col]]\n",
    "\t\t\n",
    "\t# bottom\n",
    "\tfor col in range(cols[0],cols[1]+1):\n",
    "\t\tif (schematic[row+1][col])==\"*\":\n",
    "\t\t\treturn [True, [row+1][col]]\n",
    "\n",
    "\treturn [False, None]"
   ]
  },
  {
   "cell_type": "code",
   "execution_count": 46,
   "metadata": {},
   "outputs": [
    {
     "ename": "IndexError",
     "evalue": "list index out of range",
     "output_type": "error",
     "traceback": [
      "\u001b[1;31m---------------------------------------------------------------------------\u001b[0m",
      "\u001b[1;31mIndexError\u001b[0m                                Traceback (most recent call last)",
      "Cell \u001b[1;32mIn[46], line 25\u001b[0m\n\u001b[0;32m     23\u001b[0m \t\u001b[38;5;66;03m# check if number is a part number\u001b[39;00m\n\u001b[0;32m     24\u001b[0m \t\u001b[38;5;28;01mfor\u001b[39;00m number \u001b[38;5;129;01min\u001b[39;00m number_arr:\n\u001b[1;32m---> 25\u001b[0m \t\t\u001b[38;5;28mprint\u001b[39m(\u001b[43mis_part_number\u001b[49m\u001b[43m(\u001b[49m\u001b[43mschematic\u001b[49m\u001b[43m,\u001b[49m\u001b[43m \u001b[49m\u001b[43mrow\u001b[49m\u001b[43m,\u001b[49m\u001b[43m \u001b[49m\u001b[43mnumber\u001b[49m\u001b[43m)\u001b[49m)\n\u001b[0;32m     26\u001b[0m \t\t\u001b[38;5;66;03m#if retr:\u001b[39;00m\n\u001b[0;32m     27\u001b[0m \t\t\t\n\u001b[0;32m     28\u001b[0m \n\u001b[0;32m     29\u001b[0m \u001b[38;5;66;03m#\u001b[39;00m\n\u001b[0;32m     30\u001b[0m \u001b[38;5;66;03m#print(part_numbers)\u001b[39;00m\n",
      "Cell \u001b[1;32mIn[45], line 12\u001b[0m, in \u001b[0;36mis_part_number\u001b[1;34m(schematic, row, cols)\u001b[0m\n\u001b[0;32m     10\u001b[0m \t\u001b[38;5;28;01mfor\u001b[39;00m r \u001b[38;5;129;01min\u001b[39;00m \u001b[38;5;28mrange\u001b[39m(row\u001b[38;5;241m-\u001b[39m\u001b[38;5;241m1\u001b[39m, row\u001b[38;5;241m+\u001b[39m\u001b[38;5;241m2\u001b[39m):\n\u001b[0;32m     11\u001b[0m \t\t\u001b[38;5;28;01mif\u001b[39;00m (schematic[r][cols[\u001b[38;5;241m1\u001b[39m]\u001b[38;5;241m+\u001b[39m\u001b[38;5;241m1\u001b[39m])\u001b[38;5;241m==\u001b[39m\u001b[38;5;124m\"\u001b[39m\u001b[38;5;124m*\u001b[39m\u001b[38;5;124m\"\u001b[39m:\n\u001b[1;32m---> 12\u001b[0m \t\t\t\u001b[38;5;28;01mreturn\u001b[39;00m [\u001b[38;5;28;01mTrue\u001b[39;00m, \u001b[43m[\u001b[49m\u001b[43mr\u001b[49m\u001b[43m]\u001b[49m\u001b[43m[\u001b[49m\u001b[43mcols\u001b[49m\u001b[43m[\u001b[49m\u001b[38;5;241;43m1\u001b[39;49m\u001b[43m]\u001b[49m\u001b[38;5;241;43m+\u001b[39;49m\u001b[38;5;241;43m1\u001b[39;49m\u001b[43m]\u001b[49m]\n\u001b[0;32m     14\u001b[0m \u001b[38;5;66;03m# top\u001b[39;00m\n\u001b[0;32m     15\u001b[0m \u001b[38;5;28;01mfor\u001b[39;00m col \u001b[38;5;129;01min\u001b[39;00m \u001b[38;5;28mrange\u001b[39m(cols[\u001b[38;5;241m0\u001b[39m],cols[\u001b[38;5;241m1\u001b[39m]\u001b[38;5;241m+\u001b[39m\u001b[38;5;241m1\u001b[39m):\n",
      "\u001b[1;31mIndexError\u001b[0m: list index out of range"
     ]
    }
   ],
   "source": [
    "\n",
    "for row in range(1,schematic.shape[0]-1):\n",
    "\n",
    "\t# array for a line with the position of the numbers\n",
    "\tnumber_arr = []\n",
    "\tstart = 0\n",
    "\n",
    "\twhile start < line_len:\n",
    "\t\tif schematic[row][start].isnumeric():\n",
    "\t\t\tend = start+1\n",
    "\t\t\t\n",
    "\t\t\twhile end < line_len:\n",
    "\t\t\t\tif not schematic[row][end].isnumeric():\n",
    "\t\t\t\t\tbreak\n",
    "\t\t\t\tend += 1\n",
    "\n",
    "\t\t\tnumber_arr.append([start, end-1])\n",
    "\n",
    "\t\t\tstart = end\t\n",
    "\n",
    "\t\tstart += 1\n",
    "\n",
    "\n",
    "\t# check if number is a part number\n",
    "\tfor number in number_arr:\n",
    "\t\tprint(is_part_number(schematic, row, number))\n",
    "\t\t#if retr:\n",
    "\t\t\t\n",
    "\n",
    "#\n",
    "#print(part_numbers)\n",
    "\t\t\n"
   ]
  },
  {
   "cell_type": "code",
   "execution_count": 39,
   "metadata": {},
   "outputs": [
    {
     "data": {
      "text/plain": [
       "[[1, 3], [5, 7]]"
      ]
     },
     "execution_count": 39,
     "metadata": {},
     "output_type": "execute_result"
    }
   ],
   "source": [
    "number_arr"
   ]
  },
  {
   "cell_type": "code",
   "execution_count": null,
   "metadata": {},
   "outputs": [],
   "source": []
  }
 ],
 "metadata": {
  "kernelspec": {
   "display_name": "Python 3",
   "language": "python",
   "name": "python3"
  },
  "language_info": {
   "codemirror_mode": {
    "name": "ipython",
    "version": 3
   },
   "file_extension": ".py",
   "mimetype": "text/x-python",
   "name": "python",
   "nbconvert_exporter": "python",
   "pygments_lexer": "ipython3",
   "version": "3.12.0"
  }
 },
 "nbformat": 4,
 "nbformat_minor": 2
}
