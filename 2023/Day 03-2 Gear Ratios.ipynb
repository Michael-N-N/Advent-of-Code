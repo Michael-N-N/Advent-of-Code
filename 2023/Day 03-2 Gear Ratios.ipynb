{
 "cells": [
  {
   "cell_type": "markdown",
   "metadata": {},
   "source": [
    "# Day 3-2: Gear Ratios\n",
    "https://adventofcode.com/2023/day/3#part2"
   ]
  },
  {
   "cell_type": "code",
   "execution_count": 97,
   "metadata": {},
   "outputs": [],
   "source": [
    "import numpy as np"
   ]
  },
  {
   "cell_type": "code",
   "execution_count": 98,
   "metadata": {},
   "outputs": [],
   "source": [
    "with open(\"Day 03-0 Gear Ratios.txt\", 'r') as file:\n",
    "    content = file.read() + \".\"\n",
    "    \n",
    "line_len = content.find('\\n')\n",
    "\n",
    "content = \".\"*line_len + \"\\n\" + content +  \".\"*line_len + \"\\n\" # add empty rows around the data. THis makes the code late easier.\n",
    "\n",
    "char_array = np.array(list(content), dtype='str')\n",
    "\n",
    "new_shape = (int((len(content)+1) / (line_len+1)),line_len + 1)\n",
    "\n",
    "schematic = char_array.reshape(new_shape)[:, :-1] # array with the machine scheme\n",
    "#schematic\n"
   ]
  },
  {
   "cell_type": "code",
   "execution_count": 99,
   "metadata": {},
   "outputs": [],
   "source": [
    "# Create a dictionary with the positions of the asterisks\n",
    "star_positions = [[int(index/(line_len+1)),index%(line_len+1)] for index, char in enumerate(content) if char == \"*\"]\n",
    "star_dict = {}\n",
    "for star in star_positions:\n",
    "\tstar_dict[str(star)]= []\n",
    "\n"
   ]
  },
  {
   "cell_type": "code",
   "execution_count": 100,
   "metadata": {},
   "outputs": [],
   "source": [
    "def is_part_number(schematic, row, cols):  # row = int, cols = array\n",
    "\t# left\n",
    "\tif cols[0] != 0:\n",
    "\t\tfor r in range(row-1, row+2):\n",
    "\t\t\tif (schematic[r][cols[0]-1]) ==\"*\":\n",
    "\t\t\t\treturn (True, [r,cols[0]-1])\n",
    "\t\t\t\n",
    "\t# right\n",
    "\tif cols[1] != schematic.shape[1]-1:\n",
    "\t\tfor r in range(row-1, row+2):\n",
    "\t\t\tif (schematic[r][cols[1]+1])==\"*\":\n",
    "\t\t\t\treturn (True, [r, cols[1]+1])\n",
    "\t\t\t\n",
    "\t# top\n",
    "\tfor col in range(cols[0],cols[1]+1):\n",
    "\t\tif (schematic[row-1][col])==\"*\":\n",
    "\t\t\treturn (True, [row-1, col])\n",
    "\t\t\n",
    "\t# bottom\n",
    "\tfor col in range(cols[0],cols[1]+1):\n",
    "\t\tif (schematic[row+1][col])==\"*\":\n",
    "\t\t\treturn (True, [row+1, col])\n",
    "\n",
    "\treturn (False, None)"
   ]
  },
  {
   "cell_type": "code",
   "execution_count": 101,
   "metadata": {},
   "outputs": [],
   "source": [
    "\n",
    "for row in range(1,schematic.shape[0]-1):\n",
    "\n",
    "\t# array for a line with the position of the numbers\n",
    "\tnumber_arr = []\n",
    "\tstart = 0\n",
    "\n",
    "\twhile start < line_len:\n",
    "\t\tif schematic[row][start].isnumeric():\n",
    "\t\t\tend = start+1\n",
    "\t\t\t\n",
    "\t\t\twhile end < line_len:\n",
    "\t\t\t\tif not schematic[row][end].isnumeric():\n",
    "\t\t\t\t\tbreak\n",
    "\t\t\t\tend += 1\n",
    "\n",
    "\t\t\tnumber_arr.append([start, end-1])\n",
    "\n",
    "\t\t\tstart = end\t\n",
    "\n",
    "\t\tstart += 1\n",
    "\n",
    "\n",
    "\t# check if number is a part number\n",
    "\tfor number in number_arr:\n",
    "\t\tbol, pos = is_part_number(schematic, row, number)\n",
    "\t\tif bol:\n",
    "\t\t\tstar_dict[str(pos)].append([number, row]) \n",
    "\t\t\t\n"
   ]
  },
  {
   "cell_type": "code",
   "execution_count": 102,
   "metadata": {},
   "outputs": [
    {
     "data": {
      "text/plain": [
       "67779080"
      ]
     },
     "execution_count": 102,
     "metadata": {},
     "output_type": "execute_result"
    }
   ],
   "source": [
    "def get_number(schematic, pos):\n",
    "\treturn int(''.join(([schematic[pos[1]][n] for n in range(pos[0][0], pos[0][1]+1)])))\n",
    "\n",
    "total_sum = 0\n",
    "for star in star_dict:\n",
    "\tif len(star_dict[star]) == 2:\n",
    "\t\ttotal_sum += get_number(schematic,star_dict[star][0]) * get_number(schematic,star_dict[star][1])\n",
    "\n",
    "total_sum\n",
    "\n",
    "\t"
   ]
  }
 ],
 "metadata": {
  "kernelspec": {
   "display_name": "Python 3",
   "language": "python",
   "name": "python3"
  },
  "language_info": {
   "codemirror_mode": {
    "name": "ipython",
    "version": 3
   },
   "file_extension": ".py",
   "mimetype": "text/x-python",
   "name": "python",
   "nbconvert_exporter": "python",
   "pygments_lexer": "ipython3",
   "version": "3.12.0"
  }
 },
 "nbformat": 4,
 "nbformat_minor": 2
}
