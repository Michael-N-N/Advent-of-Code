{
 "cells": [
  {
   "cell_type": "markdown",
   "metadata": {},
   "source": [
    "# Day 8-2: Haunted Wasteland\n",
    "\n",
    "## INCOMPLETE \n",
    "\n",
    "https://adventofcode.com/2023/day/8"
   ]
  },
  {
   "cell_type": "code",
   "execution_count": 13,
   "metadata": {},
   "outputs": [],
   "source": [
    "# import data\n",
    "with open(\"Day 08-0 Input.txt\", 'r') as file:\n",
    "\tlines = file.readlines()\n",
    "\n",
    "instructions = lines[0].replace('\\n','').replace('L','0').replace('R','1')\n",
    "\n",
    "nodes = {}\n",
    "for line in lines[2:]:\n",
    "\tleft,right = line.replace(' ','').split(\"=\")\n",
    "\tright = [i for i in right.replace('\\n','')[1:-1].split(',')]\n",
    "\tnodes[left] = right\n"
   ]
  },
  {
   "cell_type": "code",
   "execution_count": null,
   "metadata": {},
   "outputs": [],
   "source": [
    "positions = []\n",
    "for node in nodes:\n",
    "\tif node[2] == \"Z\":\n",
    "\t\tpositions.append(node)\n",
    "\n",
    "step_counter =  0\n",
    "\n",
    "while True:\n",
    "\tdirection = int(instructions[step_counter%len(instructions)])\n",
    "\n",
    "\tfor index, ghost_pos in enumerate(positions):\n",
    "\t\tpositions[index] = nodes[ghost_pos][direction]\n",
    "\n",
    "\tstep_counter += 1\n",
    "\t\t\n",
    "\tgame_over = True\n",
    "\tfor ghost_pos in positions:\n",
    "\t\tif ghost_pos[2] != \"Z\": \n",
    "\t\t\tgame_over = False\n",
    "\n",
    "\tif game_over: break\n",
    "\n",
    "print(step_counter)\n",
    "\n"
   ]
  }
 ],
 "metadata": {
  "kernelspec": {
   "display_name": "Python 3",
   "language": "python",
   "name": "python3"
  },
  "language_info": {
   "codemirror_mode": {
    "name": "ipython",
    "version": 3
   },
   "file_extension": ".py",
   "mimetype": "text/x-python",
   "name": "python",
   "nbconvert_exporter": "python",
   "pygments_lexer": "ipython3",
   "version": "3.12.0"
  }
 },
 "nbformat": 4,
 "nbformat_minor": 2
}
