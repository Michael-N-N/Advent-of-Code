{
 "cells": [
  {
   "cell_type": "markdown",
   "metadata": {},
   "source": [
    "# Day 9-1: Mirage Maintenance\n",
    "\n",
    "https://adventofcode.com/2023/day/9"
   ]
  },
  {
   "cell_type": "code",
   "execution_count": 31,
   "metadata": {},
   "outputs": [],
   "source": [
    "def get_next_value(history):\n",
    "\t\n",
    "\tif (max(history) == 0) and (min(history) == 0):\n",
    "\t\treturn 0 \n",
    "\t\n",
    "\telse:\n",
    "\t\tnext_line = [(history[index+1]-value) \n",
    "\t\t\t  \t\t\tfor index, value in enumerate(history) \n",
    "\t\t\t\t\t\tif index < len(history)-1]\n",
    "\t\tnext_line_A = get_next_value(next_line)\n",
    "\n",
    "\t\treturn history[-1] + next_line_A"
   ]
  },
  {
   "cell_type": "code",
   "execution_count": 32,
   "metadata": {},
   "outputs": [
    {
     "name": "stdout",
     "output_type": "stream",
     "text": [
      "1581679977\n"
     ]
    }
   ],
   "source": [
    "total_sum  = 0\n",
    "\n",
    "with open(\"Day 09-0 Input.txt\", 'r') as file:\n",
    "\tfor line in file:\n",
    "\t\tinput = [ int(i) for i in line.replace('\\n','').split(' ')]\n",
    "\t\ttotal_sum += get_next_value(input)\n",
    "\n",
    "print(total_sum)\n"
   ]
  }
 ],
 "metadata": {
  "kernelspec": {
   "display_name": "Python 3",
   "language": "python",
   "name": "python3"
  },
  "language_info": {
   "codemirror_mode": {
    "name": "ipython",
    "version": 3
   },
   "file_extension": ".py",
   "mimetype": "text/x-python",
   "name": "python",
   "nbconvert_exporter": "python",
   "pygments_lexer": "ipython3",
   "version": "3.12.0"
  }
 },
 "nbformat": 4,
 "nbformat_minor": 2
}
