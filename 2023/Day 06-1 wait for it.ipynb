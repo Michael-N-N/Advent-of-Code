{
 "cells": [
  {
   "cell_type": "markdown",
   "metadata": {},
   "source": [
    "# Day 6-1: Wait For It\n",
    "https://adventofcode.com/2023/day/6"
   ]
  },
  {
   "cell_type": "code",
   "execution_count": 33,
   "metadata": {},
   "outputs": [],
   "source": [
    "import re"
   ]
  },
  {
   "cell_type": "code",
   "execution_count": 34,
   "metadata": {},
   "outputs": [],
   "source": [
    "with open(\"Day 06-0 Input.txt\", 'r') as file:\n",
    "\tlines = file.readlines()\n",
    "\n",
    "times = [int(i) for i in (re.sub(' +', ' ', lines[0].split(':')[1].replace('\\n','').strip()).split(' '))]\n",
    "distances = [int(i) for i in (re.sub(' +', ' ', lines[1].split(':')[1].replace('\\n','').strip()).split(' '))]"
   ]
  },
  {
   "cell_type": "code",
   "execution_count": 35,
   "metadata": {},
   "outputs": [],
   "source": [
    "def travel_distance(loading_time, race_time):\n",
    "\treturn (race_time-loading_time) * loading_time"
   ]
  },
  {
   "cell_type": "code",
   "execution_count": 36,
   "metadata": {},
   "outputs": [
    {
     "name": "stdout",
     "output_type": "stream",
     "text": [
      "449550\n"
     ]
    }
   ],
   "source": [
    "victories = 1\n",
    "\n",
    "for index, race_time in enumerate(times): # races\n",
    "\trace_counter = 0\n",
    "\tfor loading_time in range(race_time):\n",
    "\t\tif travel_distance(loading_time, race_time) > distances[index]:\n",
    "\t\t\trace_counter += 1\n",
    "\t\n",
    "\tvictories  *= race_counter\n",
    "\n",
    "print(victories)"
   ]
  }
 ],
 "metadata": {
  "kernelspec": {
   "display_name": "Python 3",
   "language": "python",
   "name": "python3"
  },
  "language_info": {
   "codemirror_mode": {
    "name": "ipython",
    "version": 3
   },
   "file_extension": ".py",
   "mimetype": "text/x-python",
   "name": "python",
   "nbconvert_exporter": "python",
   "pygments_lexer": "ipython3",
   "version": "3.12.0"
  }
 },
 "nbformat": 4,
 "nbformat_minor": 2
}
