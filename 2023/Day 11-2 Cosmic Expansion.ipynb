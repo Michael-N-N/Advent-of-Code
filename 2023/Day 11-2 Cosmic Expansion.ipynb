{
 "cells": [
  {
   "cell_type": "markdown",
   "metadata": {},
   "source": [
    "# Day 11-2: Cosmic Expansion\n",
    "\n",
    "https://adventofcode.com/2023/day/11"
   ]
  },
  {
   "cell_type": "code",
   "execution_count": 174,
   "metadata": {},
   "outputs": [],
   "source": [
    "import numpy as np"
   ]
  },
  {
   "cell_type": "code",
   "execution_count": 183,
   "metadata": {},
   "outputs": [],
   "source": [
    "counter = 0\n",
    "\n",
    "arr = np.zeros(0)\n",
    "\n",
    "with open(\"Day 11-0 Input.txt\", 'r') as file:\n",
    "\tfor line in file:\n",
    "\t\trow = list(line.replace('\\n',''))\n",
    "\t\tarr = np.append(arr,row)\n",
    "\n",
    "n_cols = len(line)\n",
    "n_rows = int(len(arr)/n_cols)\n",
    "\n",
    "arr = arr.reshape(n_rows,n_cols)\n",
    "\n",
    "empty_rows = [index for index, row in enumerate(arr) if n_cols == np.count_nonzero(row == \".\")]\n",
    "empty_cols = [index for index, col in enumerate(arr.T) if n_rows == np.count_nonzero(col == \".\")]\n",
    "\n",
    "galaxies  = np.where(arr == \"#\")\n"
   ]
  },
  {
   "cell_type": "code",
   "execution_count": 179,
   "metadata": {},
   "outputs": [],
   "source": [
    "def empty_space_between(empty_lines, galax_1, galax_2):\n",
    "\tcounter = 0\n",
    "\tfor empty_line in empty_lines:\n",
    "\t\tif np.sign(galax_1 - empty_line) != np.sign(galax_2 - empty_line):\n",
    "\t\t\tcounter += 1\n",
    "\t\t\t#print(empty_lines, galax_1, galax_2)\n",
    "\t\n",
    "\treturn counter * 1000000 - counter"
   ]
  },
  {
   "cell_type": "code",
   "execution_count": 180,
   "metadata": {},
   "outputs": [
    {
     "data": {
      "text/plain": [
       "382979724122"
      ]
     },
     "execution_count": 180,
     "metadata": {},
     "output_type": "execute_result"
    }
   ],
   "source": [
    "total_distance = 0\n",
    "n_galaxies = len(galaxies[0])\n",
    "\n",
    "for i in range(n_galaxies):\n",
    "\tfor j in range(i+1,n_galaxies):\n",
    "\t\ttmp =abs(galaxies[0][i]-galaxies[0][j])+abs(galaxies[1][i]-galaxies[1][j])\n",
    "\t\ttotal_distance += tmp\n",
    "\t\ttotal_distance += empty_space_between(empty_rows, galaxies[0][i], galaxies[0][j])\n",
    "\t\ttotal_distance += empty_space_between(empty_cols, galaxies[1][i], galaxies[1][j])\n",
    "\n",
    "total_distance"
   ]
  }
 ],
 "metadata": {
  "kernelspec": {
   "display_name": "Python 3",
   "language": "python",
   "name": "python3"
  },
  "language_info": {
   "codemirror_mode": {
    "name": "ipython",
    "version": 3
   },
   "file_extension": ".py",
   "mimetype": "text/x-python",
   "name": "python",
   "nbconvert_exporter": "python",
   "pygments_lexer": "ipython3",
   "version": "3.12.0"
  }
 },
 "nbformat": 4,
 "nbformat_minor": 2
}
