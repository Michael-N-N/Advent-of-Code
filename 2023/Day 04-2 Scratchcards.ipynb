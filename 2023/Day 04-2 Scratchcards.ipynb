{
 "cells": [
  {
   "cell_type": "markdown",
   "metadata": {},
   "source": [
    "# Day 4-2: Scatchcards\n",
    "https://adventofcode.com/2023/day/4#part2"
   ]
  },
  {
   "cell_type": "code",
   "execution_count": 40,
   "metadata": {},
   "outputs": [
    {
     "name": "stdout",
     "output_type": "stream",
     "text": [
      "8063216\n"
     ]
    }
   ],
   "source": [
    "number_dic = {}\n",
    "\n",
    "with open(\"Day 04-0 input.txt\", 'r') as file:\n",
    "\tfor line in file:\n",
    "\t\tcard, numbers = line.split(\": \")\n",
    "\t\tnumbers = numbers.replace('  ', ' ').replace('\\n','')\n",
    "\t\twinning_numbers, picked_numbers = numbers.split(' | ')\n",
    "\n",
    "\t\t#create dictionary with n of cards, winning cards, picked cards\n",
    "\t\tnumber_dic[card[5:].replace(\" \",\"\")] = [\n",
    "\t\t\t1,\n",
    "\t\t\t[int(i) for i in winning_numbers.split(\" \") if i != \"\"], \n",
    "\t\t\t[int(i) for i in picked_numbers.split(\" \") if i != \"\"]]\n",
    "\t\t\n",
    "\n",
    "for key in number_dic:\n",
    "\twinning_counter = 0\n",
    "\tfor n in number_dic[key][2]:\n",
    "\t\tif n in number_dic[key][1]:\n",
    "\t\t\twinning_counter += 1\n",
    "\n",
    "\tif winning_counter > 0 :\n",
    "\t\tfor c in range(int(key)+1, int(key)+1+winning_counter):\n",
    "\t\t\tnumber_dic[str(c)][0] += number_dic[key][0] \n",
    "\n",
    "n_cards = 0\n",
    "for key in number_dic:\n",
    "\tn_cards += number_dic[key][0]\n",
    "\n",
    "print(n_cards)\n",
    "\n"
   ]
  }
 ],
 "metadata": {
  "kernelspec": {
   "display_name": "Python 3",
   "language": "python",
   "name": "python3"
  },
  "language_info": {
   "codemirror_mode": {
    "name": "ipython",
    "version": 3
   },
   "file_extension": ".py",
   "mimetype": "text/x-python",
   "name": "python",
   "nbconvert_exporter": "python",
   "pygments_lexer": "ipython3",
   "version": "3.12.0"
  }
 },
 "nbformat": 4,
 "nbformat_minor": 2
}
