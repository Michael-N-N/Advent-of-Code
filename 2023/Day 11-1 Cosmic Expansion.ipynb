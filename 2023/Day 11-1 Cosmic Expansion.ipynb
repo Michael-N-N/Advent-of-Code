{
 "cells": [
  {
   "cell_type": "markdown",
   "metadata": {},
   "source": [
    "# Day 11-1: Cosmic Expansion\n",
    "\n",
    "https://adventofcode.com/2023/day/11"
   ]
  },
  {
   "cell_type": "code",
   "execution_count": 124,
   "metadata": {},
   "outputs": [],
   "source": [
    "import numpy as np"
   ]
  },
  {
   "cell_type": "code",
   "execution_count": 125,
   "metadata": {},
   "outputs": [],
   "source": [
    "counter = 0\n",
    "\n",
    "arr = np.zeros(0)\n",
    "\n",
    "with open(\"Day 11-0 Input.txt\", 'r') as file:\n",
    "\tfor line in file:\n",
    "\t\trow = list(line.replace('\\n',''))\n",
    "\t\tfor index, value in enumerate(row):\n",
    "\t\t\tif value == \"#\":\n",
    "\t\t\t\trow[index] = counter\n",
    "\t\t\t\tcounter +=1\n",
    "\t\tarr = np.append(arr,row)\n",
    "\n",
    "n_cols = len(line)\n",
    "n_rows = int(len(arr)/n_cols)\n",
    "\n",
    "arr = arr.reshape(n_cols,n_rows)\n",
    "\n"
   ]
  },
  {
   "cell_type": "code",
   "execution_count": 126,
   "metadata": {},
   "outputs": [],
   "source": [
    "empty_rows = [index for index, row in enumerate(arr) if n_cols == np.count_nonzero(row == \".\")]\n",
    "\n",
    "for row in empty_rows[::-1]:\n",
    "\tarr = np.insert(\n",
    "\t\tarr, \n",
    "\t\trow, \n",
    "\t\t[\".\" for _ in range(n_cols)], \n",
    "\t\taxis=0)\n",
    "\n",
    "n_rows = len(arr.T[0])\n"
   ]
  },
  {
   "cell_type": "code",
   "execution_count": 127,
   "metadata": {},
   "outputs": [],
   "source": [
    "empty_cols = [index for index, col in enumerate(arr.T) if n_rows == np.count_nonzero(col == \".\")]\n",
    "\n",
    "arr_transponse = arr.T\n",
    "\n",
    "for col in empty_cols[::-1]:\n",
    "\tarr_transponse = np.insert(\n",
    "\t\tarr_transponse, \n",
    "\t\tcol, \n",
    "\t\t[\".\" for _ in range(n_rows)], \n",
    "\t\taxis=0)\n",
    "\t\n",
    "arr = arr_transponse.T\n",
    "#n_cols = len(arr[0])\n"
   ]
  },
  {
   "cell_type": "code",
   "execution_count": 128,
   "metadata": {},
   "outputs": [
    {
     "data": {
      "text/plain": [
       "10490062"
      ]
     },
     "execution_count": 128,
     "metadata": {},
     "output_type": "execute_result"
    }
   ],
   "source": [
    "total_distance = 0\n",
    "for i in range(counter):\n",
    "\tfor j in range(i+1,counter):\n",
    "\t\ttotal_distance += (abs(np.where(arr == str(i))[1][0]-\n",
    "\t\t\t\t\t\tnp.where(arr == str(j))[1][0]) + \n",
    "\t\t\t\t\tabs(np.where(arr == str(i))[0][0]-\n",
    "\t\t \t\t\t\tnp.where(arr == str(j))[0][0]))\n",
    "\n",
    "total_distance"
   ]
  }
 ],
 "metadata": {
  "kernelspec": {
   "display_name": "Python 3",
   "language": "python",
   "name": "python3"
  },
  "language_info": {
   "codemirror_mode": {
    "name": "ipython",
    "version": 3
   },
   "file_extension": ".py",
   "mimetype": "text/x-python",
   "name": "python",
   "nbconvert_exporter": "python",
   "pygments_lexer": "ipython3",
   "version": "3.12.0"
  }
 },
 "nbformat": 4,
 "nbformat_minor": 2
}
