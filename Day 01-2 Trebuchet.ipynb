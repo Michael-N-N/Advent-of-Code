{
 "cells": [
  {
   "cell_type": "markdown",
   "metadata": {},
   "source": [
    "# Day 1 Part 2: Trebuchet?!\n",
    "https://adventofcode.com/2023/day/1\n"
   ]
  },
  {
   "cell_type": "code",
   "execution_count": 17,
   "metadata": {},
   "outputs": [
    {
     "name": "stdout",
     "output_type": "stream",
     "text": [
      "53389\n"
     ]
    }
   ],
   "source": [
    "import re\n",
    "counter = 0\n",
    "\n",
    "with open('Day 01 Input.txt', 'r') as file:\n",
    "\tfor line in file:\n",
    "\n",
    "\t\told = 'one,two,three,four,five,six,seven,eight,nine'.split(',')\n",
    "\t\tnew = [str(d) for d in range(1,10)]\n",
    "\n",
    "\t\t# Find occurence\n",
    "\t\tfor index, old_value in enumerate(old):\n",
    "\t\t\tpos = [j.start() for j in re.finditer(old_value, line)]\n",
    "\t\t\tfor pos_index, value in enumerate(pos):\n",
    "\t\t\t\tline = ''.join((line[:value+pos_index+1], new[index], line[value+pos_index+1:])) \n",
    "\n",
    "\t\tdigits = [d for d in line if d.isdigit()]\n",
    "\n",
    "\t\tif digits:\t\n",
    "\t\t\tcounter += int(digits[0] + digits[-1])\n",
    "        \n",
    "print(counter)"
   ]
  }
 ],
 "metadata": {
  "kernelspec": {
   "display_name": "Python 3",
   "language": "python",
   "name": "python3"
  },
  "language_info": {
   "codemirror_mode": {
    "name": "ipython",
    "version": 3
   },
   "file_extension": ".py",
   "mimetype": "text/x-python",
   "name": "python",
   "nbconvert_exporter": "python",
   "pygments_lexer": "ipython3",
   "version": "3.12.0"
  }
 },
 "nbformat": 4,
 "nbformat_minor": 2
}
