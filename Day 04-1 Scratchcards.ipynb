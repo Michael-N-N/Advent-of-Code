{
 "cells": [
  {
   "cell_type": "markdown",
   "metadata": {},
   "source": [
    "# Day 4-1: Scatchcards\n",
    "https://adventofcode.com/2023/day/4"
   ]
  },
  {
   "cell_type": "code",
   "execution_count": 43,
   "metadata": {},
   "outputs": [
    {
     "name": "stdout",
     "output_type": "stream",
     "text": [
      "18619\n"
     ]
    }
   ],
   "source": [
    "number_dic = {}\n",
    "\n",
    "with open(\"Day 04-0 input.txt\", 'r') as file:\n",
    "\tfor line in file:\n",
    "\t\tcard, numbers = line.split(\": \")\n",
    "\t\tnumbers = numbers.replace('  ', ' ').replace('\\n','')\n",
    "\t\twinning_numbers, picked_numbers = numbers.split(' | ')\n",
    "\n",
    "\t\tnumber_dic[card] = [\n",
    "\t\t\t[int(i) for i in winning_numbers.split(\" \") if i != \"\"], \n",
    "\t\t\t[int(i) for i in picked_numbers.split(\" \") if i != \"\"]]\n",
    "\t\t\n",
    "\n",
    "total_win = 0\n",
    "\n",
    "for key in number_dic:\n",
    "    winning_counter = 0\n",
    "    for n in number_dic[key][1]:\n",
    "        if n in number_dic[key][0]:\n",
    "            winning_counter += 1\n",
    "\n",
    "    if winning_counter > 0 :\n",
    "         total_win += 2**(winning_counter-1)\n",
    "\n",
    "print(total_win)\n"
   ]
  },
  {
   "cell_type": "code",
   "execution_count": null,
   "metadata": {},
   "outputs": [],
   "source": []
  }
 ],
 "metadata": {
  "kernelspec": {
   "display_name": "Python 3",
   "language": "python",
   "name": "python3"
  },
  "language_info": {
   "codemirror_mode": {
    "name": "ipython",
    "version": 3
   },
   "file_extension": ".py",
   "mimetype": "text/x-python",
   "name": "python",
   "nbconvert_exporter": "python",
   "pygments_lexer": "ipython3",
   "version": "3.12.0"
  }
 },
 "nbformat": 4,
 "nbformat_minor": 2
}
