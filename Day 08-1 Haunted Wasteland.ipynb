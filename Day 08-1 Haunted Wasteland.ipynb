{
 "cells": [
  {
   "cell_type": "markdown",
   "metadata": {},
   "source": [
    "# Day 8-1: Haunted Wasteland\n",
    "https://adventofcode.com/2023/day/8"
   ]
  },
  {
   "cell_type": "code",
   "execution_count": 32,
   "metadata": {},
   "outputs": [],
   "source": [
    "# import data\n",
    "with open(\"Day 08-0 Input.txt\", 'r') as file:\n",
    "\tlines = file.readlines()\n",
    "\n",
    "instructions = lines[0].replace('\\n','').replace('L','0').replace('R','1')\n",
    "\n",
    "nodes = {}\n",
    "for line in lines[2:]:\n",
    "\tleft,right = line.replace(' ','').split(\"=\")\n",
    "\tright = [i for i in right.replace('\\n','')[1:-1].split(',')]\n",
    "\tnodes[left] = right"
   ]
  },
  {
   "cell_type": "code",
   "execution_count": 33,
   "metadata": {},
   "outputs": [
    {
     "name": "stdout",
     "output_type": "stream",
     "text": [
      "21409\n"
     ]
    }
   ],
   "source": [
    "position = 'AAA'\n",
    "step_counter =  0\n",
    "\n",
    "while True:\n",
    "\tdirection = int(instructions[step_counter%len(instructions)])\n",
    "\tposition = nodes[str(position)][direction]\n",
    "\n",
    "\tstep_counter += 1\n",
    "\t\n",
    "\tif position == \"ZZZ\": break \n",
    "\n",
    "print(step_counter)\n",
    "\n"
   ]
  }
 ],
 "metadata": {
  "kernelspec": {
   "display_name": "Python 3",
   "language": "python",
   "name": "python3"
  },
  "language_info": {
   "codemirror_mode": {
    "name": "ipython",
    "version": 3
   },
   "file_extension": ".py",
   "mimetype": "text/x-python",
   "name": "python",
   "nbconvert_exporter": "python",
   "pygments_lexer": "ipython3",
   "version": "3.12.0"
  }
 },
 "nbformat": 4,
 "nbformat_minor": 2
}
