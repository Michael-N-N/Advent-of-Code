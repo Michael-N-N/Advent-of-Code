{
 "cells": [
  {
   "cell_type": "markdown",
   "metadata": {},
   "source": [
    "# Day 9-1: Mirage Maintenance\n",
    "\n",
    "https://adventofcode.com/2023/day/9"
   ]
  },
  {
   "cell_type": "code",
   "execution_count": 3,
   "metadata": {},
   "outputs": [],
   "source": [
    "def get_net_step(history, next_line=None):\n",
    "\tif next_line == None:\n",
    "\t\tnext_line = [(history[index+1]-value) \n",
    "\t\t\t  \t\t\tfor index, value in enumerate(history) \n",
    "\t\t\t\t\t\tif index < len(history)-1]\n",
    "\t\tif (max(next_line) == 0) and (min(next_line == 0)):\n",
    "\t\t\tnext_line.append(next(-1))\n",
    "\t\t\treturn next_line\n",
    "\t\telse:\n",
    "\t\t\tnext_line = get_net_step(next_line, None)"
   ]
  }
 ],
 "metadata": {
  "kernelspec": {
   "display_name": "Python 3",
   "language": "python",
   "name": "python3"
  },
  "language_info": {
   "codemirror_mode": {
    "name": "ipython",
    "version": 3
   },
   "file_extension": ".py",
   "mimetype": "text/x-python",
   "name": "python",
   "nbconvert_exporter": "python",
   "pygments_lexer": "ipython3",
   "version": "3.11.5"
  }
 },
 "nbformat": 4,
 "nbformat_minor": 2
}
